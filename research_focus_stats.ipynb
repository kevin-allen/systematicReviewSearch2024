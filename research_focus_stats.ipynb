{
 "cells": [
  {
   "cell_type": "markdown",
   "metadata": {},
   "source": [
    "This is the statistical analysis of the focus of papers on melanoma diagnositc in years 2019 and 2023.\n",
    "\n",
    "The papers are listed in dfQueries2.csv, the classification is in the file saved on my Google drive.\n",
    "\n",
    "Here is the text:\n",
    "\n",
    "<cite>We found that only 10% and 4% of papers assessing the performance of oncologists with and without AI tools. Significantly more papers (26% and 8%) put AI tools against oncologists (chi-square test). From 2019 to 2023, there was an increase in the proportion of papers comparing AI tools to one another without direct comparison to oncologists (50% vs 59%, chi-square test).</cite>\n",
    "\n",
    "For the first chi-square test, we can merge the years to test whether there are more AIvsHuman than Human+AI."
   ]
  },
  {
   "cell_type": "code",
   "execution_count": 2,
   "metadata": {},
   "outputs": [
    {
     "data": {
      "text/plain": [
       "array([12,  5])"
      ]
     },
     "execution_count": 2,
     "metadata": {},
     "output_type": "execute_result"
    }
   ],
   "source": [
    "import numpy as np\n",
    "np.array([8+4,3+2])"
   ]
  },
  {
   "cell_type": "markdown",
   "metadata": {},
   "source": []
  }
 ],
 "metadata": {
  "kernelspec": {
   "display_name": ".venv",
   "language": "python",
   "name": "python3"
  },
  "language_info": {
   "codemirror_mode": {
    "name": "ipython",
    "version": 3
   },
   "file_extension": ".py",
   "mimetype": "text/x-python",
   "name": "python",
   "nbconvert_exporter": "python",
   "pygments_lexer": "ipython3",
   "version": "3.10.12"
  }
 },
 "nbformat": 4,
 "nbformat_minor": 2
}
