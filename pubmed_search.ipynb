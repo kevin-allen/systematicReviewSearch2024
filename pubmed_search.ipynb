{
 "cells": [
  {
   "cell_type": "markdown",
   "metadata": {},
   "source": [
    "## Literature search\n",
    "\n",
    "To be able to reproduce the results of my web search for articles for my systematic review, I used the code below.\n",
    "\n",
    "We use PubMed for the search."
   ]
  },
  {
   "cell_type": "code",
   "execution_count": 35,
   "metadata": {},
   "outputs": [],
   "source": [
    "from pymed import PubMed\n",
    "pubmed = PubMed(tool=\"MyTool\", email=\"allen@dkfz-heidelberg.de\")"
   ]
  },
  {
   "cell_type": "markdown",
   "metadata": {},
   "source": [
    "This is just an example of how we can retrieve articles from a database search. Not part of the review."
   ]
  },
  {
   "cell_type": "code",
   "execution_count": 71,
   "metadata": {},
   "outputs": [],
   "source": [
    "query = \"(kevin allen grid cells) AND ((\\\"2015/01/01\\\"[Date - Publication] : \\\"2024/01/01\\\"[Date - Publication]))\"\n",
    "results = pubmed.query(query, max_results=500)"
   ]
  },
  {
   "cell_type": "code",
   "execution_count": 72,
   "metadata": {},
   "outputs": [],
   "source": [
    "def results_to_dict(results):\n",
    "    articleList = []\n",
    "    for article in results:\n",
    "        articleDict = article.toDict()\n",
    "        articleList.append(articleDict)\n",
    "    return articleList\n",
    "\n",
    "articleList = results_to_dict(results)"
   ]
  },
  {
   "cell_type": "code",
   "execution_count": 73,
   "metadata": {},
   "outputs": [
    {
     "data": {
      "text/plain": [
       "5"
      ]
     },
     "execution_count": 73,
     "metadata": {},
     "output_type": "execute_result"
    }
   ],
   "source": [
    "len(articleList)"
   ]
  },
  {
   "cell_type": "code",
   "execution_count": 74,
   "metadata": {},
   "outputs": [
    {
     "name": "stdout",
     "output_type": "stream",
     "text": [
      "We found 5 articles\n"
     ]
    },
    {
     "data": {
      "text/plain": [
       "dict_keys(['pubmed_id', 'title', 'abstract', 'keywords', 'journal', 'publication_date', 'authors', 'methods', 'conclusions', 'results', 'copyrights', 'doi', 'xml'])"
      ]
     },
     "execution_count": 74,
     "metadata": {},
     "output_type": "execute_result"
    }
   ],
   "source": [
    "print(f\"We found {len(articleList)} articles\")\n",
    "articleList[0].keys()"
   ]
  },
  {
   "cell_type": "code",
   "execution_count": 75,
   "metadata": {},
   "outputs": [
    {
     "data": {
      "text/plain": [
       "{'pubmed_id': '30222110\\n26709045\\n3653312\\n17626218\\n27852770\\n20657591\\n23603709\\n21609831\\n9700566\\n28416119\\n15385610\\n7843305\\n27498565\\n20392951\\n22454618\\n24089485\\n20505130\\n28343867\\n9733184\\n9364077\\n15965463\\n28888183\\n28756950\\n27991898\\n25024427\\n8595195\\n26631468\\n30222110\\n26176924\\n16858394\\n19874793\\n19923286\\n7996172\\n30061814\\n27449281\\n25730672\\n16675704\\n11439447\\n11539168\\n12890795\\n9151751\\n9787007\\n23222610\\n2303851\\n2303852\\n8592189\\n7823153\\n25122712\\n22983210\\n26791205\\n25700518\\n1308170\\n21451060\\n19176815\\n24795578\\n16407560\\n8604055',\n",
       " 'title': 'Non-rhythmic head-direction cells in the parahippocampal region are not constrained by attractor network dynamics.',\n",
       " 'abstract': 'Computational models postulate that head-direction (HD) cells are part of an attractor network integrating head turns. This network requires inputs from visual landmarks to anchor the HD signal to the external world. We investigated whether information about HD and visual landmarks is integrated in the medial entorhinal cortex and parasubiculum, resulting in neurons expressing a conjunctive code for HD and visual landmarks. We found that parahippocampal HD cells could be divided into two classes based on their theta-rhythmic activity: non-rhythmic and theta-rhythmic HD cells. Manipulations of the visual landmarks caused tuning curve alterations in most HD cells, with the largest visually driven changes observed in non-rhythmic HD cells. Importantly, the tuning modifications of non-rhythmic HD cells were often non-coherent across cells, refuting the notion that attractor-like dynamics control non-rhythmic HD cells. These findings reveal a new population of non-rhythmic HD cells whose malleable organization is controlled by visual landmarks.',\n",
       " 'keywords': ['entorhinal cortex',\n",
       "  'grid cells',\n",
       "  'head-direction cells',\n",
       "  'mouse',\n",
       "  'navigation',\n",
       "  'neuroscience',\n",
       "  'theta oscillations',\n",
       "  'visual landmarks'],\n",
       " 'journal': 'eLife',\n",
       " 'publication_date': datetime.date(2018, 9, 18),\n",
       " 'authors': [{'lastname': 'Kornienko',\n",
       "   'firstname': 'Olga',\n",
       "   'initials': 'O',\n",
       "   'affiliation': 'Department of Clinical Neurobiology, Medical Faculty of Heidelberg University and German Cancer Research Center, Heidelberg, Germany.'},\n",
       "  {'lastname': 'Latuske',\n",
       "   'firstname': 'Patrick',\n",
       "   'initials': 'P',\n",
       "   'affiliation': 'Department of Clinical Neurobiology, Medical Faculty of Heidelberg University and German Cancer Research Center, Heidelberg, Germany.'},\n",
       "  {'lastname': 'Bassler',\n",
       "   'firstname': 'Mathis',\n",
       "   'initials': 'M',\n",
       "   'affiliation': 'Department of Clinical Neurobiology, Medical Faculty of Heidelberg University and German Cancer Research Center, Heidelberg, Germany.'},\n",
       "  {'lastname': 'Kohler',\n",
       "   'firstname': 'Laura',\n",
       "   'initials': 'L',\n",
       "   'affiliation': 'Department of Clinical Neurobiology, Medical Faculty of Heidelberg University and German Cancer Research Center, Heidelberg, Germany.'},\n",
       "  {'lastname': 'Allen',\n",
       "   'firstname': 'Kevin',\n",
       "   'initials': 'K',\n",
       "   'affiliation': 'Department of Clinical Neurobiology, Medical Faculty of Heidelberg University and German Cancer Research Center, Heidelberg, Germany.'}],\n",
       " 'methods': None,\n",
       " 'conclusions': None,\n",
       " 'results': None,\n",
       " 'copyrights': '© 2018, Kornienko et al.',\n",
       " 'doi': '10.7554/eLife.35949\\n10.1016/j.cell.2015.12.015\\n10.1007/BF00247283\\n10.1523/JNEUROSCI.0268-07.2007\\n10.1523/JNEUROSCI.0516-16.2016\\n10.1038/nn.2602\\n10.1038/nn.3383\\n10.1016/j.neuron.2011.04.003\\n10.1002/(SICI)1096-9861(19980824)398:2<179::AID-CNE3>3.0.CO;2-Y\\n10.1016/j.cub.2017.03.033\\n10.1523/JNEUROSCI.2635-04.2004\\n10.1007/BF00243212\\n10.1016/j.cub.2016.06.043\\n10.1523/JNEUROSCI.3380-09.2010\\n10.3389/fncir.2012.00007\\n10.1523/JNEUROSCI.2646-13.2013\\n10.1152/jn.01141.2009\\n10.1016/j.neuron.2017.03.004\\n10.1037/0735-7044.112.4.749\\n10.1523/JNEUROSCI.17-23-09315.1997\\n10.1038/nature03721\\n10.1016/j.conb.2017.07.005\\n10.1016/j.cub.2017.06.034\\n10.1038/nn.4465\\n10.7554/eLife.03075\\n10.1097/00001756-199511000-00017\\n10.1523/JNEUROSCI.0653-15.2015\\n10.5061/dryad.202m6h0\\n10.1038/nature14622\\n10.1038/nrn1932\\n10.1016/j.neuron.2009.08.037\\n10.1523/JNEUROSCI.3450-09.2009\\n10.1523/JNEUROSCI.14-12-07235.1994\\n10.3389/fncel.2018.00191\\n10.7554/eLife.16937\\n10.1038/nn.3968\\n10.1088/0954-898X_7_4_004\\n10.1126/science.1125572\\n10.1037/0735-7044.115.3.571\\n10.1152/jn.00346.2003\\n10.1523/JNEUROSCI.17-11-04349.1997\\n10.1523/JNEUROSCI.18-21-09020.1998\\n10.1038/nature11649\\n10.1523/JNEUROSCI.10-02-00420.1990\\n10.1523/JNEUROSCI.10-02-00436.1990\\n10.1152/jn.1995.74.5.1953\\n10.1523/JNEUROSCI.15-01-00070.1995\\n10.1152/jn.00583.2013\\n10.1038/nn.3215\\n10.1523/JNEUROSCI.3790-14.2016\\n10.1126/science.1259591\\n10.1002/hipo.450020102\\n10.1152/jn.01041.2010\\n10.1523/JNEUROSCI.1679-08.2009\\n10.3389/fnint.2014.00032\\n10.1523/JNEUROSCI.3885-05.2006\\n10.1523/JNEUROSCI.16-06-02112.1996',\n",
       " 'xml': <Element 'PubmedArticle' at 0x7f441cca8090>}"
      ]
     },
     "execution_count": 75,
     "metadata": {},
     "output_type": "execute_result"
    }
   ],
   "source": [
    "articleList[0]"
   ]
  },
  {
   "cell_type": "code",
   "execution_count": 76,
   "metadata": {},
   "outputs": [
    {
     "name": "stdout",
     "output_type": "stream",
     "text": [
      "Non-rhythmic head-direction cells in the parahippocampal region are not constrained by attractor network dynamics.\n",
      "2018-09-18\n",
      "Hippocampal Remapping and Its Entorhinal Origin.\n",
      "2018-01-23\n",
      "Impaired path integration in mice with disrupted grid cell firing.\n",
      "2017-12-13\n",
      "Visual landmarks sharpen grid cell metric and confer context specificity to neurons of the medial entorhinal cortex.\n",
      "2016-07-28\n",
      "Interspike Intervals Reveal Functionally Distinct Cell Populations in the Medial Entorhinal Cortex.\n",
      "2015-08-08\n"
     ]
    }
   ],
   "source": [
    "for a in articleList:\n",
    "    print(a['title'])\n",
    "    print(a['publication_date'])"
   ]
  },
  {
   "cell_type": "markdown",
   "metadata": {},
   "source": [
    "We could build a list of queries and then loop through them to retrieve our paper of interests."
   ]
  },
  {
   "cell_type": "code",
   "execution_count": 104,
   "metadata": {},
   "outputs": [],
   "source": [
    "query = \"(human-AI interactions) AND (radiology) AND ((\\\"2019/01/01\\\"[Date - Publication] : \\\"2024/04/01\\\"[Date - Publication]))\"\n",
    "query = \"(human-AI interactions) AND (oncology) AND((\\\"2019/01/01\\\"[Date - Publication] : \\\"2024/04/01\\\"[Date - Publication]))\"\n",
    "query = \"(human-AI interactions) AND (cancer) AND((\\\"2019/01/01\\\"[Date - Publication] : \\\"2024/04/01\\\"[Date - Publication]))\"\n",
    "\n",
    "\n",
    "query = \"(human-centered AI) AND (radiology) AND ((\\\"2019/01/01\\\"[Date - Publication] : \\\"2024/04/01\\\"[Date - Publication]))\"\n",
    "query = \"(human-centered AI) AND (oncology) AND ((\\\"2019/01/01\\\"[Date - Publication] : \\\"2024/04/01\\\"[Date - Publication]))\"\n",
    "query = \"(human-centered AI) AND (cancer) AND ((\\\"2019/01/01\\\"[Date - Publication] : \\\"2024/04/01\\\"[Date - Publication]))\"\n",
    "\n",
    "query = \"(human-AI interactions) OR (explainable AI) AND (cancer) AND ((\\\"2019/01/01\\\"[Date - Publication] : \\\"2024/04/01\\\"[Date - Publication]))\"\n",
    "query = \"(human-centered AI) AND (explainable AI) AND (oncology) AND ((\\\"2019/01/01\\\"[Date - Publication] : \\\"2024/04/01\\\"[Date - Publication]))\""
   ]
  },
  {
   "cell_type": "code",
   "execution_count": 105,
   "metadata": {},
   "outputs": [],
   "source": [
    "results = pubmed.query(query, max_results=500)\n",
    "articleList = results_to_dict(results)"
   ]
  },
  {
   "cell_type": "code",
   "execution_count": 106,
   "metadata": {},
   "outputs": [
    {
     "data": {
      "text/plain": [
       "5"
      ]
     },
     "execution_count": 106,
     "metadata": {},
     "output_type": "execute_result"
    }
   ],
   "source": [
    "len(articleList)"
   ]
  },
  {
   "cell_type": "code",
   "execution_count": 107,
   "metadata": {},
   "outputs": [
    {
     "name": "stdout",
     "output_type": "stream",
     "text": [
      "Evaluating the clinical utility of artificial intelligence assistance and its explanation on the glioma grading task.\n",
      "2024-02-08\n",
      "A human-interpretable machine learning pipeline based on ultrasound to support leiomyosarcoma diagnosis.\n",
      "2023-12-03\n",
      "Explainable artificial intelligence (XAI): closing the gap between image analysis and navigation in complex invasive diagnostic procedures.\n",
      "2022-01-28\n",
      "Editorial: On the \"Human\" in Human-Artificial Intelligence Interaction.\n",
      "2022-01-11\n",
      "Mutation-based clustering and classification analysis reveals distinctive age groups and age-related biomarkers for glioma.\n",
      "2021-03-01\n"
     ]
    }
   ],
   "source": [
    "for a in articleList:\n",
    "    print(a['title'])\n",
    "    print(a['publication_date'])"
   ]
  },
  {
   "cell_type": "code",
   "execution_count": null,
   "metadata": {},
   "outputs": [],
   "source": []
  }
 ],
 "metadata": {
  "kernelspec": {
   "display_name": ".venv",
   "language": "python",
   "name": "python3"
  },
  "language_info": {
   "codemirror_mode": {
    "name": "ipython",
    "version": 3
   },
   "file_extension": ".py",
   "mimetype": "text/x-python",
   "name": "python",
   "nbconvert_exporter": "python",
   "pygments_lexer": "ipython3",
   "version": "3.10.12"
  }
 },
 "nbformat": 4,
 "nbformat_minor": 2
}
