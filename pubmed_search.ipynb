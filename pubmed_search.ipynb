{
 "cells": [
  {
   "cell_type": "markdown",
   "metadata": {},
   "source": [
    "## Literature search\n",
    "\n",
    "To be able to reproduce the results of my web search for articles for my systematic review, I used the code below.\n",
    "\n",
    "We use PubMed for the search."
   ]
  },
  {
   "cell_type": "code",
   "execution_count": 1,
   "metadata": {},
   "outputs": [],
   "source": [
    "from pymed import PubMed\n",
    "import pandas as pd\n",
    "import numpy as np\n",
    "from datetime import datetime\n",
    "import matplotlib.pyplot as plt\n",
    "pubmed = PubMed(tool=\"MyTool\", email=\"allen@dkfz-heidelberg.de\")\n",
    "\n",
    "def figurePanelDefaultSize():\n",
    "    \"\"\"\n",
    "    Use to keep the size of panels similar across figures\n",
    "    \"\"\"\n",
    "    return (1.8,1.8)\n",
    "\n",
    "def setFigureDefaultParameters():\n",
    "    matplotlib.rcdefaults()\n",
    "    plt.rc('axes', labelsize=10) #fontsize of the title\n",
    "    plt.rc('axes', titlesize=10) #fontsize of the title\n",
    "    plt.rc('axes', linewidth=1.25) \n",
    "    plt.rc(\"xtick.major\", width=1.25)\n",
    "    plt.rc(\"ytick.major\", width=1.25)"
   ]
  },
  {
   "cell_type": "markdown",
   "metadata": {},
   "source": [
    "This is just an example of how we can retrieve articles from a database search. Not part of the review."
   ]
  },
  {
   "cell_type": "code",
   "execution_count": 2,
   "metadata": {},
   "outputs": [
    {
     "name": "stdout",
     "output_type": "stream",
     "text": [
      "We found 5 articles\n"
     ]
    },
    {
     "data": {
      "text/plain": [
       "dict_keys(['pubmed_id', 'title', 'abstract', 'keywords', 'journal', 'publication_date', 'authors', 'methods', 'conclusions', 'results', 'copyrights', 'doi', 'xml'])"
      ]
     },
     "execution_count": 2,
     "metadata": {},
     "output_type": "execute_result"
    }
   ],
   "source": [
    "def results_to_dict(results):\n",
    "    articleList = []\n",
    "    for article in results:\n",
    "        articleDict = article.toDict()\n",
    "        articleList.append(articleDict)\n",
    "    return articleList"
   ]
  },
  {
   "cell_type": "markdown",
   "metadata": {},
   "source": [
    "We build a list of queries and then loop through them to retrieve our paper of interests.\n",
    "\n",
    "We can do separate searches instead of combining many together. This gives data to identify the popular terms.\n",
    "\n",
    "Put the publication date filter at the end."
   ]
  },
  {
   "cell_type": "code",
   "execution_count": 4,
   "metadata": {},
   "outputs": [
    {
     "data": {
      "text/plain": [
       "'(\"2019/01/01\"[Date - Publication] : \"2024/04/01\"[Date - Publication])'"
      ]
     },
     "execution_count": 4,
     "metadata": {},
     "output_type": "execute_result"
    }
   ],
   "source": [
    "startDate=\"2019/01/01\"\n",
    "endDate=\"2024/04/01\"\n",
    "dateFilter = f\"(\\\"{startDate}\\\"[Date - Publication] : \\\"{endDate}\\\"[Date - Publication])\"\n",
    "dateFilter"
   ]
  },
  {
   "cell_type": "code",
   "execution_count": 13,
   "metadata": {},
   "outputs": [],
   "source": [
    "queryList = [# queries with explainable AI and human-AI interactions, without reference to cancer\n",
    "             \"(human-AI interactions) AND (explainable AI)\",\n",
    "             \"(human-centered AI) AND (explainable AI)\",\n",
    "             \"(human-machine interactions) AND (explainable AI)\",\n",
    "             \n",
    "             # queries with human-AI interactions and cancer\n",
    "             \"(human-AI interactions) AND ((cancer radiology) OR (oncology) OR (cancer))\",\n",
    "             \"(human-centered AI) AND ((cancer radiology) OR (oncology) OR (cancer))\",\n",
    "             \"(human-machine interactions) AND ((cancer radiology) OR (oncology) OR (cancer))\",\n",
    "            \n",
    "             # queries with explainable AI and 3 specific areas of oncology, otherwise we get too many results\n",
    "             \"(explainable AI) AND (cancer radiology)\",\n",
    "             \"(explainable AI) AND (skin cancer)\",\n",
    "             \"(explainable AI) AND (melanoma)\",\n",
    "             \n",
    "             # control queries\n",
    "             \"(cancer radiology) AND (AI)\",\n",
    "             \"(melanoma) AND (AI)\"]"
   ]
  },
  {
   "cell_type": "code",
   "execution_count": 14,
   "metadata": {},
   "outputs": [],
   "source": [
    "queryList = [ q+f\" AND {dateFilter}\"for q in queryList]"
   ]
  },
  {
   "cell_type": "code",
   "execution_count": 15,
   "metadata": {},
   "outputs": [
    {
     "data": {
      "text/plain": [
       "['(human-AI interactions) AND (explainable AI) AND (\"2019/01/01\"[Date - Publication] : \"2024/04/01\"[Date - Publication])',\n",
       " '(human-centered AI) AND (explainable AI) AND (\"2019/01/01\"[Date - Publication] : \"2024/04/01\"[Date - Publication])',\n",
       " '(human-machine interactions) AND (explainable AI) AND (\"2019/01/01\"[Date - Publication] : \"2024/04/01\"[Date - Publication])',\n",
       " '(human-AI interactions) AND ((cancer radiology) OR (oncology) OR (cancer)) AND (\"2019/01/01\"[Date - Publication] : \"2024/04/01\"[Date - Publication])',\n",
       " '(human-centered AI) AND ((cancer radiology) OR (oncology) OR (cancer)) AND (\"2019/01/01\"[Date - Publication] : \"2024/04/01\"[Date - Publication])',\n",
       " '(human-machine interactions) AND ((cancer radiology) OR (oncology) OR (cancer)) AND (\"2019/01/01\"[Date - Publication] : \"2024/04/01\"[Date - Publication])',\n",
       " '(explainable AI) AND (cancer radiology) AND (\"2019/01/01\"[Date - Publication] : \"2024/04/01\"[Date - Publication])',\n",
       " '(explainable AI) AND (skin cancer) AND (\"2019/01/01\"[Date - Publication] : \"2024/04/01\"[Date - Publication])',\n",
       " '(explainable AI) AND (melanoma) AND (\"2019/01/01\"[Date - Publication] : \"2024/04/01\"[Date - Publication])',\n",
       " '(cancer radiology) AND (AI) AND (\"2019/01/01\"[Date - Publication] : \"2024/04/01\"[Date - Publication])',\n",
       " '(melanoma) AND (AI) AND (\"2019/01/01\"[Date - Publication] : \"2024/04/01\"[Date - Publication])']"
      ]
     },
     "execution_count": 15,
     "metadata": {},
     "output_type": "execute_result"
    }
   ],
   "source": [
    "queryList"
   ]
  },
  {
   "cell_type": "markdown",
   "metadata": {},
   "source": [
    "Create a nice representation of the query for plotting."
   ]
  },
  {
   "cell_type": "code",
   "execution_count": 16,
   "metadata": {},
   "outputs": [],
   "source": [
    "def format_query(q):\n",
    "    q = q.split(\"AND\")[:-1]\n",
    "    q = [str.strip() for str in q]\n",
    "    q = [str.replace(\"(\",\"\") for str in q]\n",
    "    q = [str.replace(\")\",\"\") for str in q]\n",
    "    q = \" AND \".join(q)\n",
    "    q = q[0].upper() + q[1:]\n",
    "    return q"
   ]
  },
  {
   "cell_type": "code",
   "execution_count": 17,
   "metadata": {},
   "outputs": [],
   "source": [
    "dfQueries= pd.DataFrame({\"query\": queryList,\n",
    "                         \"queryFormatted\": [ format_query(q) for q in queryList],\n",
    "                         \"queryNo\": np.arange(len(queryList))})"
   ]
  },
  {
   "cell_type": "code",
   "execution_count": 18,
   "metadata": {},
   "outputs": [
    {
     "data": {
      "text/html": [
       "<div>\n",
       "<style scoped>\n",
       "    .dataframe tbody tr th:only-of-type {\n",
       "        vertical-align: middle;\n",
       "    }\n",
       "\n",
       "    .dataframe tbody tr th {\n",
       "        vertical-align: top;\n",
       "    }\n",
       "\n",
       "    .dataframe thead th {\n",
       "        text-align: right;\n",
       "    }\n",
       "</style>\n",
       "<table border=\"1\" class=\"dataframe\">\n",
       "  <thead>\n",
       "    <tr style=\"text-align: right;\">\n",
       "      <th></th>\n",
       "      <th>query</th>\n",
       "      <th>queryFormatted</th>\n",
       "      <th>queryNo</th>\n",
       "    </tr>\n",
       "  </thead>\n",
       "  <tbody>\n",
       "    <tr>\n",
       "      <th>0</th>\n",
       "      <td>(human-AI interactions) AND (explainable AI) A...</td>\n",
       "      <td>Human-AI interactions AND explainable AI</td>\n",
       "      <td>0</td>\n",
       "    </tr>\n",
       "    <tr>\n",
       "      <th>1</th>\n",
       "      <td>(human-centered AI) AND (explainable AI) AND (...</td>\n",
       "      <td>Human-centered AI AND explainable AI</td>\n",
       "      <td>1</td>\n",
       "    </tr>\n",
       "    <tr>\n",
       "      <th>2</th>\n",
       "      <td>(human-machine interactions) AND (explainable ...</td>\n",
       "      <td>Human-machine interactions AND explainable AI</td>\n",
       "      <td>2</td>\n",
       "    </tr>\n",
       "    <tr>\n",
       "      <th>3</th>\n",
       "      <td>(human-AI interactions) AND ((cancer radiology...</td>\n",
       "      <td>Human-AI interactions AND cancer radiology OR ...</td>\n",
       "      <td>3</td>\n",
       "    </tr>\n",
       "    <tr>\n",
       "      <th>4</th>\n",
       "      <td>(human-centered AI) AND ((cancer radiology) OR...</td>\n",
       "      <td>Human-centered AI AND cancer radiology OR onco...</td>\n",
       "      <td>4</td>\n",
       "    </tr>\n",
       "    <tr>\n",
       "      <th>5</th>\n",
       "      <td>(human-machine interactions) AND ((cancer radi...</td>\n",
       "      <td>Human-machine interactions AND cancer radiolog...</td>\n",
       "      <td>5</td>\n",
       "    </tr>\n",
       "    <tr>\n",
       "      <th>6</th>\n",
       "      <td>(explainable AI) AND (cancer radiology) AND (\"...</td>\n",
       "      <td>Explainable AI AND cancer radiology</td>\n",
       "      <td>6</td>\n",
       "    </tr>\n",
       "    <tr>\n",
       "      <th>7</th>\n",
       "      <td>(explainable AI) AND (skin cancer) AND (\"2019/...</td>\n",
       "      <td>Explainable AI AND skin cancer</td>\n",
       "      <td>7</td>\n",
       "    </tr>\n",
       "    <tr>\n",
       "      <th>8</th>\n",
       "      <td>(explainable AI) AND (melanoma) AND (\"2019/01/...</td>\n",
       "      <td>Explainable AI AND melanoma</td>\n",
       "      <td>8</td>\n",
       "    </tr>\n",
       "    <tr>\n",
       "      <th>9</th>\n",
       "      <td>(cancer radiology) AND (AI) AND (\"2019/01/01\"[...</td>\n",
       "      <td>Cancer radiology AND AI</td>\n",
       "      <td>9</td>\n",
       "    </tr>\n",
       "    <tr>\n",
       "      <th>10</th>\n",
       "      <td>(melanoma) AND (AI) AND (\"2019/01/01\"[Date - P...</td>\n",
       "      <td>Melanoma AND AI</td>\n",
       "      <td>10</td>\n",
       "    </tr>\n",
       "  </tbody>\n",
       "</table>\n",
       "</div>"
      ],
      "text/plain": [
       "                                                query  \\\n",
       "0   (human-AI interactions) AND (explainable AI) A...   \n",
       "1   (human-centered AI) AND (explainable AI) AND (...   \n",
       "2   (human-machine interactions) AND (explainable ...   \n",
       "3   (human-AI interactions) AND ((cancer radiology...   \n",
       "4   (human-centered AI) AND ((cancer radiology) OR...   \n",
       "5   (human-machine interactions) AND ((cancer radi...   \n",
       "6   (explainable AI) AND (cancer radiology) AND (\"...   \n",
       "7   (explainable AI) AND (skin cancer) AND (\"2019/...   \n",
       "8   (explainable AI) AND (melanoma) AND (\"2019/01/...   \n",
       "9   (cancer radiology) AND (AI) AND (\"2019/01/01\"[...   \n",
       "10  (melanoma) AND (AI) AND (\"2019/01/01\"[Date - P...   \n",
       "\n",
       "                                       queryFormatted  queryNo  \n",
       "0            Human-AI interactions AND explainable AI        0  \n",
       "1                Human-centered AI AND explainable AI        1  \n",
       "2       Human-machine interactions AND explainable AI        2  \n",
       "3   Human-AI interactions AND cancer radiology OR ...        3  \n",
       "4   Human-centered AI AND cancer radiology OR onco...        4  \n",
       "5   Human-machine interactions AND cancer radiolog...        5  \n",
       "6                 Explainable AI AND cancer radiology        6  \n",
       "7                      Explainable AI AND skin cancer        7  \n",
       "8                         Explainable AI AND melanoma        8  \n",
       "9                             Cancer radiology AND AI        9  \n",
       "10                                    Melanoma AND AI       10  "
      ]
     },
     "execution_count": 18,
     "metadata": {},
     "output_type": "execute_result"
    }
   ],
   "source": [
    "dfQueries\n"
   ]
  },
  {
   "cell_type": "code",
   "execution_count": 19,
   "metadata": {},
   "outputs": [
    {
     "name": "stdout",
     "output_type": "stream",
     "text": [
      "Saving results/dfQueries\n"
     ]
    }
   ],
   "source": [
    "fn = \"results/dfQueries\"\n",
    "print(\"Saving\",fn)\n",
    "dfQueries.to_csv(fn)"
   ]
  },
  {
   "cell_type": "markdown",
   "metadata": {},
   "source": [
    "Fetch our articles"
   ]
  },
  {
   "cell_type": "code",
   "execution_count": 20,
   "metadata": {},
   "outputs": [
    {
     "name": "stdout",
     "output_type": "stream",
     "text": [
      "Fetching articles for query 0: (human-AI interactions) AND (explainable AI) AND (\"2019/01/01\"[Date - Publication] : \"2024/04/01\"[Date - Publication])\n",
      "Found 14 articles\n",
      "Fetching articles for query 1: (human-centered AI) AND (explainable AI) AND (\"2019/01/01\"[Date - Publication] : \"2024/04/01\"[Date - Publication])\n",
      "Found 32 articles\n",
      "Fetching articles for query 2: (human-machine interactions) AND (explainable AI) AND (\"2019/01/01\"[Date - Publication] : \"2024/04/01\"[Date - Publication])\n",
      "Found 13 articles\n",
      "Fetching articles for query 3: (human-AI interactions) AND ((cancer radiology) OR (oncology) OR (cancer)) AND (\"2019/01/01\"[Date - Publication] : \"2024/04/01\"[Date - Publication])\n",
      "Found 11 articles\n",
      "Fetching articles for query 4: (human-centered AI) AND ((cancer radiology) OR (oncology) OR (cancer)) AND (\"2019/01/01\"[Date - Publication] : \"2024/04/01\"[Date - Publication])\n",
      "Found 21 articles\n",
      "Fetching articles for query 5: (human-machine interactions) AND ((cancer radiology) OR (oncology) OR (cancer)) AND (\"2019/01/01\"[Date - Publication] : \"2024/04/01\"[Date - Publication])\n",
      "Found 14 articles\n",
      "Fetching articles for query 6: (explainable AI) AND (cancer radiology) AND (\"2019/01/01\"[Date - Publication] : \"2024/04/01\"[Date - Publication])\n",
      "Found 64 articles\n",
      "Fetching articles for query 7: (explainable AI) AND (skin cancer) AND (\"2019/01/01\"[Date - Publication] : \"2024/04/01\"[Date - Publication])\n",
      "Found 50 articles\n",
      "Fetching articles for query 8: (explainable AI) AND (melanoma) AND (\"2019/01/01\"[Date - Publication] : \"2024/04/01\"[Date - Publication])\n",
      "Found 43 articles\n",
      "Fetching articles for query 9: (cancer radiology) AND (AI) AND (\"2019/01/01\"[Date - Publication] : \"2024/04/01\"[Date - Publication])\n",
      "Found 3442 articles\n",
      "Fetching articles for query 10: (melanoma) AND (AI) AND (\"2019/01/01\"[Date - Publication] : \"2024/04/01\"[Date - Publication])\n",
      "Found 2701 articles\n"
     ]
    }
   ],
   "source": [
    "articleList = []\n",
    "for i, query in enumerate(queryList):\n",
    "    print(f\"Fetching articles for query {i}: {query}\")\n",
    "    results = pubmed.query(query, max_results=100000)\n",
    "    myRes = results_to_dict(results) # get a list of dictionaries from itertools.chain object\n",
    "    # add a query field to the dictionaries\n",
    "    for d in myRes:\n",
    "        d[\"queryNo\"] = i\n",
    "    print(f\"Found {len(myRes)} articles\")\n",
    "    articleList = articleList + myRes"
   ]
  },
  {
   "cell_type": "code",
   "execution_count": 21,
   "metadata": {},
   "outputs": [
    {
     "data": {
      "text/plain": [
       "dict_keys(['pubmed_id', 'title', 'abstract', 'keywords', 'journal', 'publication_date', 'authors', 'methods', 'conclusions', 'results', 'copyrights', 'doi', 'xml', 'queryNo'])"
      ]
     },
     "execution_count": 21,
     "metadata": {},
     "output_type": "execute_result"
    }
   ],
   "source": [
    "articleList[0].keys()"
   ]
  },
  {
   "cell_type": "code",
   "execution_count": 22,
   "metadata": {},
   "outputs": [],
   "source": [
    "dfArticles = pd.DataFrame({\"title\": [ a[\"title\"] for a in articleList],\n",
    "                   \"pubmedId\" : [ a[\"pubmed_id\"].split(\"\\n\")[0] for a in articleList],\n",
    "                   \"queryNo\" : [ a[\"queryNo\"] for a in articleList],\n",
    "                   \"publication_date\": [ a[\"publication_date\"] for a in articleList]})\n",
    "                   #'journal': ([ a[\"journal\"] for a in articleList])})\n",
    "dfArticles.publication_date = pd.to_datetime(dfArticles.publication_date)                   "
   ]
  },
  {
   "cell_type": "code",
   "execution_count": 23,
   "metadata": {},
   "outputs": [
    {
     "name": "stdout",
     "output_type": "stream",
     "text": [
      "Number of items retrieved: 6405 articles\n",
      "Number of unique items retrieved: 6135\n"
     ]
    }
   ],
   "source": [
    "print(f\"Number of items retrieved: {len(dfArticles.pubmedId)} articles\")\n",
    "print(f\"Number of unique items retrieved: {len(dfArticles.pubmedId.unique())}\")"
   ]
  },
  {
   "cell_type": "markdown",
   "metadata": {},
   "source": [
    "Calculate the number of articles per queries."
   ]
  },
  {
   "cell_type": "code",
   "execution_count": 24,
   "metadata": {},
   "outputs": [],
   "source": [
    "seriesvc = dfArticles.queryNo.value_counts()"
   ]
  },
  {
   "cell_type": "code",
   "execution_count": 25,
   "metadata": {},
   "outputs": [
    {
     "data": {
      "text/html": [
       "<div>\n",
       "<style scoped>\n",
       "    .dataframe tbody tr th:only-of-type {\n",
       "        vertical-align: middle;\n",
       "    }\n",
       "\n",
       "    .dataframe tbody tr th {\n",
       "        vertical-align: top;\n",
       "    }\n",
       "\n",
       "    .dataframe thead th {\n",
       "        text-align: right;\n",
       "    }\n",
       "</style>\n",
       "<table border=\"1\" class=\"dataframe\">\n",
       "  <thead>\n",
       "    <tr style=\"text-align: right;\">\n",
       "      <th></th>\n",
       "      <th>query</th>\n",
       "      <th>queryFormatted</th>\n",
       "      <th>queryNo</th>\n",
       "      <th>nArticles</th>\n",
       "    </tr>\n",
       "  </thead>\n",
       "  <tbody>\n",
       "    <tr>\n",
       "      <th>0</th>\n",
       "      <td>(human-AI interactions) AND (explainable AI) A...</td>\n",
       "      <td>Human-AI interactions AND explainable AI</td>\n",
       "      <td>0</td>\n",
       "      <td>14</td>\n",
       "    </tr>\n",
       "    <tr>\n",
       "      <th>1</th>\n",
       "      <td>(human-centered AI) AND (explainable AI) AND (...</td>\n",
       "      <td>Human-centered AI AND explainable AI</td>\n",
       "      <td>1</td>\n",
       "      <td>32</td>\n",
       "    </tr>\n",
       "    <tr>\n",
       "      <th>2</th>\n",
       "      <td>(human-machine interactions) AND (explainable ...</td>\n",
       "      <td>Human-machine interactions AND explainable AI</td>\n",
       "      <td>2</td>\n",
       "      <td>13</td>\n",
       "    </tr>\n",
       "    <tr>\n",
       "      <th>3</th>\n",
       "      <td>(human-AI interactions) AND ((cancer radiology...</td>\n",
       "      <td>Human-AI interactions AND cancer radiology OR ...</td>\n",
       "      <td>3</td>\n",
       "      <td>11</td>\n",
       "    </tr>\n",
       "    <tr>\n",
       "      <th>4</th>\n",
       "      <td>(human-centered AI) AND ((cancer radiology) OR...</td>\n",
       "      <td>Human-centered AI AND cancer radiology OR onco...</td>\n",
       "      <td>4</td>\n",
       "      <td>21</td>\n",
       "    </tr>\n",
       "    <tr>\n",
       "      <th>5</th>\n",
       "      <td>(human-machine interactions) AND ((cancer radi...</td>\n",
       "      <td>Human-machine interactions AND cancer radiolog...</td>\n",
       "      <td>5</td>\n",
       "      <td>14</td>\n",
       "    </tr>\n",
       "    <tr>\n",
       "      <th>6</th>\n",
       "      <td>(explainable AI) AND (cancer radiology) AND (\"...</td>\n",
       "      <td>Explainable AI AND cancer radiology</td>\n",
       "      <td>6</td>\n",
       "      <td>64</td>\n",
       "    </tr>\n",
       "    <tr>\n",
       "      <th>7</th>\n",
       "      <td>(explainable AI) AND (skin cancer) AND (\"2019/...</td>\n",
       "      <td>Explainable AI AND skin cancer</td>\n",
       "      <td>7</td>\n",
       "      <td>50</td>\n",
       "    </tr>\n",
       "    <tr>\n",
       "      <th>8</th>\n",
       "      <td>(explainable AI) AND (melanoma) AND (\"2019/01/...</td>\n",
       "      <td>Explainable AI AND melanoma</td>\n",
       "      <td>8</td>\n",
       "      <td>43</td>\n",
       "    </tr>\n",
       "    <tr>\n",
       "      <th>9</th>\n",
       "      <td>(cancer radiology) AND (AI) AND (\"2019/01/01\"[...</td>\n",
       "      <td>Cancer radiology AND AI</td>\n",
       "      <td>9</td>\n",
       "      <td>3442</td>\n",
       "    </tr>\n",
       "    <tr>\n",
       "      <th>10</th>\n",
       "      <td>(melanoma) AND (AI) AND (\"2019/01/01\"[Date - P...</td>\n",
       "      <td>Melanoma AND AI</td>\n",
       "      <td>10</td>\n",
       "      <td>2701</td>\n",
       "    </tr>\n",
       "  </tbody>\n",
       "</table>\n",
       "</div>"
      ],
      "text/plain": [
       "                                                query  \\\n",
       "0   (human-AI interactions) AND (explainable AI) A...   \n",
       "1   (human-centered AI) AND (explainable AI) AND (...   \n",
       "2   (human-machine interactions) AND (explainable ...   \n",
       "3   (human-AI interactions) AND ((cancer radiology...   \n",
       "4   (human-centered AI) AND ((cancer radiology) OR...   \n",
       "5   (human-machine interactions) AND ((cancer radi...   \n",
       "6   (explainable AI) AND (cancer radiology) AND (\"...   \n",
       "7   (explainable AI) AND (skin cancer) AND (\"2019/...   \n",
       "8   (explainable AI) AND (melanoma) AND (\"2019/01/...   \n",
       "9   (cancer radiology) AND (AI) AND (\"2019/01/01\"[...   \n",
       "10  (melanoma) AND (AI) AND (\"2019/01/01\"[Date - P...   \n",
       "\n",
       "                                       queryFormatted  queryNo  nArticles  \n",
       "0            Human-AI interactions AND explainable AI        0         14  \n",
       "1                Human-centered AI AND explainable AI        1         32  \n",
       "2       Human-machine interactions AND explainable AI        2         13  \n",
       "3   Human-AI interactions AND cancer radiology OR ...        3         11  \n",
       "4   Human-centered AI AND cancer radiology OR onco...        4         21  \n",
       "5   Human-machine interactions AND cancer radiolog...        5         14  \n",
       "6                 Explainable AI AND cancer radiology        6         64  \n",
       "7                      Explainable AI AND skin cancer        7         50  \n",
       "8                         Explainable AI AND melanoma        8         43  \n",
       "9                             Cancer radiology AND AI        9       3442  \n",
       "10                                    Melanoma AND AI       10       2701  "
      ]
     },
     "execution_count": 25,
     "metadata": {},
     "output_type": "execute_result"
    }
   ],
   "source": [
    "# merge two dataframe based on queryNo\n",
    "dfQueries = dfQueries.merge(seriesvc, on='queryNo')\n",
    "dfQueries.rename(columns={\"count\":\"nArticles\"}, inplace=True)\n",
    "dfQueries"
   ]
  },
  {
   "cell_type": "code",
   "execution_count": 26,
   "metadata": {},
   "outputs": [
    {
     "name": "stdout",
     "output_type": "stream",
     "text": [
      "Saving results/dfQueries\n"
     ]
    }
   ],
   "source": [
    "fn = \"results/dfQueries\"\n",
    "print(\"Saving\",fn)\n",
    "dfQueries.to_csv(fn)"
   ]
  },
  {
   "cell_type": "code",
   "execution_count": 27,
   "metadata": {},
   "outputs": [
    {
     "data": {
      "text/html": [
       "<div>\n",
       "<style scoped>\n",
       "    .dataframe tbody tr th:only-of-type {\n",
       "        vertical-align: middle;\n",
       "    }\n",
       "\n",
       "    .dataframe tbody tr th {\n",
       "        vertical-align: top;\n",
       "    }\n",
       "\n",
       "    .dataframe thead th {\n",
       "        text-align: right;\n",
       "    }\n",
       "</style>\n",
       "<table border=\"1\" class=\"dataframe\">\n",
       "  <thead>\n",
       "    <tr style=\"text-align: right;\">\n",
       "      <th></th>\n",
       "      <th>query</th>\n",
       "      <th>queryFormatted</th>\n",
       "      <th>queryNo</th>\n",
       "      <th>nArticles</th>\n",
       "    </tr>\n",
       "  </thead>\n",
       "  <tbody>\n",
       "    <tr>\n",
       "      <th>0</th>\n",
       "      <td>(human-AI interactions) AND (explainable AI) A...</td>\n",
       "      <td>Human-AI interactions AND explainable AI</td>\n",
       "      <td>0</td>\n",
       "      <td>14</td>\n",
       "    </tr>\n",
       "    <tr>\n",
       "      <th>1</th>\n",
       "      <td>(human-centered AI) AND (explainable AI) AND (...</td>\n",
       "      <td>Human-centered AI AND explainable AI</td>\n",
       "      <td>1</td>\n",
       "      <td>32</td>\n",
       "    </tr>\n",
       "    <tr>\n",
       "      <th>2</th>\n",
       "      <td>(human-machine interactions) AND (explainable ...</td>\n",
       "      <td>Human-machine interactions AND explainable AI</td>\n",
       "      <td>2</td>\n",
       "      <td>13</td>\n",
       "    </tr>\n",
       "    <tr>\n",
       "      <th>3</th>\n",
       "      <td>(human-AI interactions) AND ((cancer radiology...</td>\n",
       "      <td>Human-AI interactions AND cancer radiology OR ...</td>\n",
       "      <td>3</td>\n",
       "      <td>11</td>\n",
       "    </tr>\n",
       "    <tr>\n",
       "      <th>4</th>\n",
       "      <td>(human-centered AI) AND ((cancer radiology) OR...</td>\n",
       "      <td>Human-centered AI AND cancer radiology OR onco...</td>\n",
       "      <td>4</td>\n",
       "      <td>21</td>\n",
       "    </tr>\n",
       "    <tr>\n",
       "      <th>5</th>\n",
       "      <td>(human-machine interactions) AND ((cancer radi...</td>\n",
       "      <td>Human-machine interactions AND cancer radiolog...</td>\n",
       "      <td>5</td>\n",
       "      <td>14</td>\n",
       "    </tr>\n",
       "    <tr>\n",
       "      <th>6</th>\n",
       "      <td>(explainable AI) AND (cancer radiology) AND (\"...</td>\n",
       "      <td>Explainable AI AND cancer radiology</td>\n",
       "      <td>6</td>\n",
       "      <td>64</td>\n",
       "    </tr>\n",
       "    <tr>\n",
       "      <th>7</th>\n",
       "      <td>(explainable AI) AND (skin cancer) AND (\"2019/...</td>\n",
       "      <td>Explainable AI AND skin cancer</td>\n",
       "      <td>7</td>\n",
       "      <td>50</td>\n",
       "    </tr>\n",
       "    <tr>\n",
       "      <th>8</th>\n",
       "      <td>(explainable AI) AND (melanoma) AND (\"2019/01/...</td>\n",
       "      <td>Explainable AI AND melanoma</td>\n",
       "      <td>8</td>\n",
       "      <td>43</td>\n",
       "    </tr>\n",
       "    <tr>\n",
       "      <th>9</th>\n",
       "      <td>(cancer radiology) AND (AI) AND (\"2019/01/01\"[...</td>\n",
       "      <td>Cancer radiology AND AI</td>\n",
       "      <td>9</td>\n",
       "      <td>3442</td>\n",
       "    </tr>\n",
       "    <tr>\n",
       "      <th>10</th>\n",
       "      <td>(melanoma) AND (AI) AND (\"2019/01/01\"[Date - P...</td>\n",
       "      <td>Melanoma AND AI</td>\n",
       "      <td>10</td>\n",
       "      <td>2701</td>\n",
       "    </tr>\n",
       "  </tbody>\n",
       "</table>\n",
       "</div>"
      ],
      "text/plain": [
       "                                                query  \\\n",
       "0   (human-AI interactions) AND (explainable AI) A...   \n",
       "1   (human-centered AI) AND (explainable AI) AND (...   \n",
       "2   (human-machine interactions) AND (explainable ...   \n",
       "3   (human-AI interactions) AND ((cancer radiology...   \n",
       "4   (human-centered AI) AND ((cancer radiology) OR...   \n",
       "5   (human-machine interactions) AND ((cancer radi...   \n",
       "6   (explainable AI) AND (cancer radiology) AND (\"...   \n",
       "7   (explainable AI) AND (skin cancer) AND (\"2019/...   \n",
       "8   (explainable AI) AND (melanoma) AND (\"2019/01/...   \n",
       "9   (cancer radiology) AND (AI) AND (\"2019/01/01\"[...   \n",
       "10  (melanoma) AND (AI) AND (\"2019/01/01\"[Date - P...   \n",
       "\n",
       "                                       queryFormatted  queryNo  nArticles  \n",
       "0            Human-AI interactions AND explainable AI        0         14  \n",
       "1                Human-centered AI AND explainable AI        1         32  \n",
       "2       Human-machine interactions AND explainable AI        2         13  \n",
       "3   Human-AI interactions AND cancer radiology OR ...        3         11  \n",
       "4   Human-centered AI AND cancer radiology OR onco...        4         21  \n",
       "5   Human-machine interactions AND cancer radiolog...        5         14  \n",
       "6                 Explainable AI AND cancer radiology        6         64  \n",
       "7                      Explainable AI AND skin cancer        7         50  \n",
       "8                         Explainable AI AND melanoma        8         43  \n",
       "9                             Cancer radiology AND AI        9       3442  \n",
       "10                                    Melanoma AND AI       10       2701  "
      ]
     },
     "execution_count": 27,
     "metadata": {},
     "output_type": "execute_result"
    }
   ],
   "source": [
    "dfQueries"
   ]
  },
  {
   "cell_type": "markdown",
   "metadata": {},
   "source": [
    "We can make a summary plot of the results"
   ]
  },
  {
   "cell_type": "code",
   "execution_count": null,
   "metadata": {},
   "outputs": [],
   "source": []
  },
  {
   "cell_type": "code",
   "execution_count": 28,
   "metadata": {},
   "outputs": [
    {
     "data": {
      "image/png": "[encoded data removed]",
      "text/plain": [
       "<Figure size 180x180 with 1 Axes>"
      ]
     },
     "metadata": {},
     "output_type": "display_data"
    }
   ],
   "source": [
    "def plot_articles_per_query(ax,df):\n",
    "    \n",
    "    ylabels = df.queryFormatted\n",
    "    ypos = np.arange(len(ylabels))\n",
    "    ax.barh(ypos,df[\"nArticles\"])\n",
    "    ax.set_yticks(ypos,ylabels)\n",
    "    ax.set_ylabel(\"\")\n",
    "    ax.set_xlabel(\"Articles\")\n",
    "    ax.spines['top'].set_visible(False)\n",
    "    ax.spines['right'].set_visible(False) \n",
    "\n",
    "rowSize,colSize= figurePanelDefaultSize()\n",
    "fig, ax = plt.subplots(1, 1, figsize=(colSize,rowSize))\n",
    "\n",
    "df = dfQueries[~dfQueries.queryFormatted.str.contains(\"AND AI\")] # remove the control searches\n",
    "plot_articles_per_query(ax,df)"
   ]
  },
  {
   "cell_type": "markdown",
   "metadata": {},
   "source": [
    "It could be interesting to show that explainable AI is on the rise, the frequency of articles should be increasing with time."
   ]
  },
  {
   "cell_type": "code",
   "execution_count": 29,
   "metadata": {},
   "outputs": [
    {
     "name": "stdout",
     "output_type": "stream",
     "text": [
      "Queries with XAI\n",
      "0    0\n",
      "1    1\n",
      "2    2\n",
      "6    6\n",
      "7    7\n",
      "8    8\n",
      "Name: queryNo, dtype: int64\n"
     ]
    }
   ],
   "source": [
    "# test if explainable AI is in the query\n",
    "qExplainable = dfQueries.queryNo[dfQueries.queryFormatted.str.contains(\"Explainable AI\",case=False)]\n",
    "print(\"Queries with XAI\")\n",
    "print(qExplainable)\n",
    "dfXAIArticles= dfArticles[dfArticles.queryNo.isin(qExplainable)]"
   ]
  },
  {
   "cell_type": "code",
   "execution_count": 30,
   "metadata": {},
   "outputs": [],
   "source": [
    "def plot_distribution_pub_dates(ax,df,ylabel=\"Articles\"):\n",
    "    ax.hist(df['publication_date'], bins=4*4+1) # 4 years and 1 quarter\n",
    "    ax.set_xlabel('Publication Date')\n",
    "    ax.set_ylabel(ylabel)\n",
    "    ax.spines['top'].set_visible(False)\n",
    "    ax.spines['right'].set_visible(False)\n",
    "    # show the dates on the x-axis, only show 2020 and 2024\n",
    "    ax.set_xticks([datetime(2020,1,1),datetime(2022,1,1),datetime(2024,1,1)])\n",
    "    # set the xticks labels\n",
    "    ax.set_xticklabels(['2020', '2022', '2024'])\n",
    " "
   ]
  },
  {
   "cell_type": "code",
   "execution_count": 31,
   "metadata": {},
   "outputs": [
    {
     "data": {
      "image/png": "[encoded data removed]",
      "text/plain": [
       "<Figure size 180x180 with 1 Axes>"
      ]
     },
     "metadata": {},
     "output_type": "display_data"
    }
   ],
   "source": [
    "rowSize,colSize= figurePanelDefaultSize()\n",
    "fig, ax = plt.subplots(1, 1, figsize=(colSize, rowSize))\n",
    "plot_distribution_pub_dates(ax,dfXAIArticles,ylabel=\"XAI articles\")"
   ]
  },
  {
   "cell_type": "code",
   "execution_count": 32,
   "metadata": {},
   "outputs": [
    {
     "name": "stdout",
     "output_type": "stream",
     "text": [
      "Queries with Human-centered AI\n",
      "1    1\n",
      "4    4\n",
      "Name: queryNo, dtype: int64\n"
     ]
    }
   ],
   "source": [
    "qHuman = dfQueries.queryNo[dfQueries.queryFormatted.str.contains(\"Human-centered AI\",case=False)]\n",
    "print(\"Queries with Human-centered AI\")\n",
    "print(qHuman)\n",
    "dfHumanArticles= dfArticles[dfArticles.queryNo.isin(qHuman)]"
   ]
  },
  {
   "cell_type": "code",
   "execution_count": 33,
   "metadata": {},
   "outputs": [
    {
     "data": {
      "image/png": "[encoded data removed]",
      "text/plain": [
       "<Figure size 180x180 with 1 Axes>"
      ]
     },
     "metadata": {},
     "output_type": "display_data"
    }
   ],
   "source": [
    "rowSize,colSize= figurePanelDefaultSize()\n",
    "fig, ax = plt.subplots(1, 1, figsize=(colSize, rowSize))\n",
    "plot_distribution_pub_dates(ax,dfHumanArticles,ylabel=\"HCAI articles\")"
   ]
  },
  {
   "cell_type": "code",
   "execution_count": 34,
   "metadata": {},
   "outputs": [
    {
     "data": {
      "text/html": [
       "<div>\n",
       "<style scoped>\n",
       "    .dataframe tbody tr th:only-of-type {\n",
       "        vertical-align: middle;\n",
       "    }\n",
       "\n",
       "    .dataframe tbody tr th {\n",
       "        vertical-align: top;\n",
       "    }\n",
       "\n",
       "    .dataframe thead th {\n",
       "        text-align: right;\n",
       "    }\n",
       "</style>\n",
       "<table border=\"1\" class=\"dataframe\">\n",
       "  <thead>\n",
       "    <tr style=\"text-align: right;\">\n",
       "      <th></th>\n",
       "      <th>query</th>\n",
       "      <th>queryFormatted</th>\n",
       "      <th>queryNo</th>\n",
       "      <th>nArticles</th>\n",
       "    </tr>\n",
       "  </thead>\n",
       "  <tbody>\n",
       "    <tr>\n",
       "      <th>0</th>\n",
       "      <td>(human-AI interactions) AND (explainable AI) A...</td>\n",
       "      <td>Human-AI interactions AND explainable AI</td>\n",
       "      <td>0</td>\n",
       "      <td>14</td>\n",
       "    </tr>\n",
       "    <tr>\n",
       "      <th>1</th>\n",
       "      <td>(human-centered AI) AND (explainable AI) AND (...</td>\n",
       "      <td>Human-centered AI AND explainable AI</td>\n",
       "      <td>1</td>\n",
       "      <td>32</td>\n",
       "    </tr>\n",
       "    <tr>\n",
       "      <th>2</th>\n",
       "      <td>(human-machine interactions) AND (explainable ...</td>\n",
       "      <td>Human-machine interactions AND explainable AI</td>\n",
       "      <td>2</td>\n",
       "      <td>13</td>\n",
       "    </tr>\n",
       "    <tr>\n",
       "      <th>3</th>\n",
       "      <td>(human-AI interactions) AND ((cancer radiology...</td>\n",
       "      <td>Human-AI interactions AND cancer radiology OR ...</td>\n",
       "      <td>3</td>\n",
       "      <td>11</td>\n",
       "    </tr>\n",
       "    <tr>\n",
       "      <th>4</th>\n",
       "      <td>(human-centered AI) AND ((cancer radiology) OR...</td>\n",
       "      <td>Human-centered AI AND cancer radiology OR onco...</td>\n",
       "      <td>4</td>\n",
       "      <td>21</td>\n",
       "    </tr>\n",
       "    <tr>\n",
       "      <th>5</th>\n",
       "      <td>(human-machine interactions) AND ((cancer radi...</td>\n",
       "      <td>Human-machine interactions AND cancer radiolog...</td>\n",
       "      <td>5</td>\n",
       "      <td>14</td>\n",
       "    </tr>\n",
       "    <tr>\n",
       "      <th>6</th>\n",
       "      <td>(explainable AI) AND (cancer radiology) AND (\"...</td>\n",
       "      <td>Explainable AI AND cancer radiology</td>\n",
       "      <td>6</td>\n",
       "      <td>64</td>\n",
       "    </tr>\n",
       "    <tr>\n",
       "      <th>7</th>\n",
       "      <td>(explainable AI) AND (skin cancer) AND (\"2019/...</td>\n",
       "      <td>Explainable AI AND skin cancer</td>\n",
       "      <td>7</td>\n",
       "      <td>50</td>\n",
       "    </tr>\n",
       "    <tr>\n",
       "      <th>8</th>\n",
       "      <td>(explainable AI) AND (melanoma) AND (\"2019/01/...</td>\n",
       "      <td>Explainable AI AND melanoma</td>\n",
       "      <td>8</td>\n",
       "      <td>43</td>\n",
       "    </tr>\n",
       "    <tr>\n",
       "      <th>9</th>\n",
       "      <td>(cancer radiology) AND (AI) AND (\"2019/01/01\"[...</td>\n",
       "      <td>Cancer radiology AND AI</td>\n",
       "      <td>9</td>\n",
       "      <td>3442</td>\n",
       "    </tr>\n",
       "    <tr>\n",
       "      <th>10</th>\n",
       "      <td>(melanoma) AND (AI) AND (\"2019/01/01\"[Date - P...</td>\n",
       "      <td>Melanoma AND AI</td>\n",
       "      <td>10</td>\n",
       "      <td>2701</td>\n",
       "    </tr>\n",
       "  </tbody>\n",
       "</table>\n",
       "</div>"
      ],
      "text/plain": [
       "                                                query  \\\n",
       "0   (human-AI interactions) AND (explainable AI) A...   \n",
       "1   (human-centered AI) AND (explainable AI) AND (...   \n",
       "2   (human-machine interactions) AND (explainable ...   \n",
       "3   (human-AI interactions) AND ((cancer radiology...   \n",
       "4   (human-centered AI) AND ((cancer radiology) OR...   \n",
       "5   (human-machine interactions) AND ((cancer radi...   \n",
       "6   (explainable AI) AND (cancer radiology) AND (\"...   \n",
       "7   (explainable AI) AND (skin cancer) AND (\"2019/...   \n",
       "8   (explainable AI) AND (melanoma) AND (\"2019/01/...   \n",
       "9   (cancer radiology) AND (AI) AND (\"2019/01/01\"[...   \n",
       "10  (melanoma) AND (AI) AND (\"2019/01/01\"[Date - P...   \n",
       "\n",
       "                                       queryFormatted  queryNo  nArticles  \n",
       "0            Human-AI interactions AND explainable AI        0         14  \n",
       "1                Human-centered AI AND explainable AI        1         32  \n",
       "2       Human-machine interactions AND explainable AI        2         13  \n",
       "3   Human-AI interactions AND cancer radiology OR ...        3         11  \n",
       "4   Human-centered AI AND cancer radiology OR onco...        4         21  \n",
       "5   Human-machine interactions AND cancer radiolog...        5         14  \n",
       "6                 Explainable AI AND cancer radiology        6         64  \n",
       "7                      Explainable AI AND skin cancer        7         50  \n",
       "8                         Explainable AI AND melanoma        8         43  \n",
       "9                             Cancer radiology AND AI        9       3442  \n",
       "10                                    Melanoma AND AI       10       2701  "
      ]
     },
     "execution_count": 34,
     "metadata": {},
     "output_type": "execute_result"
    }
   ],
   "source": [
    "dfQueries"
   ]
  },
  {
   "cell_type": "code",
   "execution_count": 35,
   "metadata": {},
   "outputs": [
    {
     "name": "stdout",
     "output_type": "stream",
     "text": [
      "Melanoma and AI\n",
      "10    10\n",
      "Name: queryNo, dtype: int64\n"
     ]
    }
   ],
   "source": [
    "qMelanomaAI = dfQueries.queryNo[dfQueries.queryFormatted.str.contains(\"Melanoma AND AI\")]\n",
    "print(\"Melanoma and AI\")\n",
    "print(qMelanomaAI)\n",
    "dfMelanomaAI= dfArticles[dfArticles.queryNo.isin(qMelanomaAI)]"
   ]
  },
  {
   "cell_type": "markdown",
   "metadata": {},
   "source": [
    "Somehow we have publication dates before the startDate when searching for Melanoma and AI."
   ]
  },
  {
   "cell_type": "code",
   "execution_count": 36,
   "metadata": {},
   "outputs": [],
   "source": [
    "dateFormat = '%Y/%m/%d'\n",
    "date = datetime.strptime(startDate, dateFormat)\n",
    "dfMelanomaAI = dfMelanomaAI[dfMelanomaAI.publication_date>date]\n"
   ]
  },
  {
   "cell_type": "code",
   "execution_count": 37,
   "metadata": {},
   "outputs": [
    {
     "data": {
      "image/png": "[encoded data removed]",
      "text/plain": [
       "<Figure size 180x180 with 1 Axes>"
      ]
     },
     "metadata": {},
     "output_type": "display_data"
    }
   ],
   "source": [
    "rowSize,colSize= figurePanelDefaultSize()\n",
    "fig, ax = plt.subplots(1, 1, figsize=(colSize, rowSize))\n",
    "plot_distribution_pub_dates(ax,dfMelanomaAI,ylabel=\"Melanoma AI\\narticles\")"
   ]
  },
  {
   "cell_type": "code",
   "execution_count": 38,
   "metadata": {},
   "outputs": [
    {
     "name": "stdout",
     "output_type": "stream",
     "text": [
      "Cancer radiology and AI\n",
      "9    9\n",
      "Name: queryNo, dtype: int64\n"
     ]
    }
   ],
   "source": [
    "qCancerRadiologyAI = dfQueries.queryNo[dfQueries.queryFormatted.str.contains(\"Cancer radiology AND AI\")]\n",
    "print(\"Cancer radiology and AI\")\n",
    "print(qCancerRadiologyAI)\n",
    "dfCancerRadiologyAI= dfArticles[dfArticles.queryNo.isin(qCancerRadiologyAI)]\n",
    "dfCancerRadiologyAI = dfCancerRadiologyAI[dfCancerRadiologyAI.publication_date>date]"
   ]
  },
  {
   "cell_type": "code",
   "execution_count": 39,
   "metadata": {},
   "outputs": [
    {
     "data": {
      "image/png": "[encoded data removed]",
      "text/plain": [
       "<Figure size 180x180 with 1 Axes>"
      ]
     },
     "metadata": {},
     "output_type": "display_data"
    }
   ],
   "source": [
    "rowSize,colSize= figurePanelDefaultSize()\n",
    "fig, ax = plt.subplots(1, 1, figsize=(colSize, rowSize))\n",
    "plot_distribution_pub_dates(ax,dfCancerRadiologyAI,ylabel=\"Cancer radio. AI\\narticles\")"
   ]
  },
  {
   "cell_type": "code",
   "execution_count": 40,
   "metadata": {},
   "outputs": [
    {
     "data": {
      "image/png": "[encoded data removed]",
      "text/plain": [
       "<Figure size 810x360 with 5 Axes>"
      ]
     },
     "metadata": {},
     "output_type": "display_data"
    }
   ],
   "source": [
    "fig = plt.figure(figsize=(colSize*4.5, rowSize*2),constrained_layout=True)\n",
    "topSpec = fig.add_gridspec(ncols=2, nrows=2, height_ratios=[0.8,1])\n",
    "bottomSpec = fig.add_gridspec(ncols=4, nrows=2,  height_ratios=[1,0.7])\n",
    "\n",
    "ax = fig.add_subplot(topSpec[0,:]) \n",
    "df = dfQueries[~dfQueries.queryFormatted.str.contains(\"AND AI\")] # remove the control searches\n",
    "plot_articles_per_query(ax,df)\n",
    "\n",
    "ax = fig.add_subplot(bottomSpec[1,0]) \n",
    "plot_distribution_pub_dates(ax,dfXAIArticles,ylabel=\"XAI articles\")\n",
    "\n",
    "ax = fig.add_subplot(bottomSpec[1,1]) \n",
    "plot_distribution_pub_dates(ax,dfHumanArticles,ylabel=\"HCAI articles\")\n",
    "\n",
    "ax = fig.add_subplot(bottomSpec[1,2]) \n",
    "plot_distribution_pub_dates(ax,dfMelanomaAI,ylabel=\"Melanoma AI\\narticles\")\n",
    "\n",
    "ax = fig.add_subplot(bottomSpec[1,3]) \n",
    "plot_distribution_pub_dates(ax,dfCancerRadiologyAI,ylabel=\"Cancer radio. AI\\narticles\")"
   ]
  },
  {
   "cell_type": "markdown",
   "metadata": {},
   "source": [
    "Create a DataFrame with unique entries for the review. Remove entries for our control searches."
   ]
  },
  {
   "cell_type": "code",
   "execution_count": 41,
   "metadata": {},
   "outputs": [],
   "source": [
    "dfArticles\n",
    "q = dfQueries[~dfQueries.queryFormatted.str.contains(\"AND AI\")].queryNo # this is used to remove the control queries\n",
    "dfArticles = dfArticles[dfArticles.queryNo.isin(q)]\n"
   ]
  },
  {
   "cell_type": "code",
   "execution_count": 42,
   "metadata": {},
   "outputs": [],
   "source": [
    "myList = []\n",
    "for pubmedId in dfArticles.pubmedId.unique():\n",
    "    adf = dfArticles[dfArticles.pubmedId==pubmedId]\n",
    "    queryList = adf.queryNo.to_string(header=False,index=False).split('\\n')\n",
    "    entry = {\"title\":adf.title.iloc[0],\n",
    "             \"publication_date\":adf.publication_date.iloc[0],\n",
    "             #\"journal\":adf.journal.iloc[0],\n",
    "             \"pubmedId\":pubmedId,\n",
    "             \"queryIds\":queryList}\n",
    "    myList.append(entry)"
   ]
  },
  {
   "cell_type": "code",
   "execution_count": 43,
   "metadata": {},
   "outputs": [],
   "source": [
    "dfUniqueArticles = pd.DataFrame({\"title\":[a[\"title\"] for a in myList],\n",
    "                         \"pubmedId\":[a[\"pubmedId\"] for a in myList],\n",
    "                         \"publication_date\":[a[\"publication_date\"] for a in myList],\n",
    "                        #\"journal\":[a[\"journal\"] for a in myList],\n",
    "                          \"queryIds\":[a[\"queryIds\"] for a in myList]   })\n"
   ]
  },
  {
   "cell_type": "code",
   "execution_count": 44,
   "metadata": {},
   "outputs": [
    {
     "data": {
      "text/plain": [
       "Index(['title', 'pubmedId', 'publication_date', 'queryIds'], dtype='object')"
      ]
     },
     "execution_count": 44,
     "metadata": {},
     "output_type": "execute_result"
    }
   ],
   "source": [
    "dfUniqueArticles.columns"
   ]
  },
  {
   "cell_type": "code",
   "execution_count": 45,
   "metadata": {},
   "outputs": [
    {
     "data": {
      "text/html": [
       "<div>\n",
       "<style scoped>\n",
       "    .dataframe tbody tr th:only-of-type {\n",
       "        vertical-align: middle;\n",
       "    }\n",
       "\n",
       "    .dataframe tbody tr th {\n",
       "        vertical-align: top;\n",
       "    }\n",
       "\n",
       "    .dataframe thead th {\n",
       "        text-align: right;\n",
       "    }\n",
       "</style>\n",
       "<table border=\"1\" class=\"dataframe\">\n",
       "  <thead>\n",
       "    <tr style=\"text-align: right;\">\n",
       "      <th></th>\n",
       "      <th>title</th>\n",
       "      <th>pubmedId</th>\n",
       "      <th>publication_date</th>\n",
       "      <th>queryIds</th>\n",
       "    </tr>\n",
       "  </thead>\n",
       "  <tbody>\n",
       "    <tr>\n",
       "      <th>0</th>\n",
       "      <td>Media Forensic Considerations of the Usage of ...</td>\n",
       "      <td>38392094</td>\n",
       "      <td>2024-02-23</td>\n",
       "      <td>[0]</td>\n",
       "    </tr>\n",
       "    <tr>\n",
       "      <th>1</th>\n",
       "      <td>Towards Human-Centered Explainable AI: A Surve...</td>\n",
       "      <td>37956008</td>\n",
       "      <td>2023-11-13</td>\n",
       "      <td>[0, 1]</td>\n",
       "    </tr>\n",
       "    <tr>\n",
       "      <th>2</th>\n",
       "      <td>Human-AI teaming: leveraging transactive memor...</td>\n",
       "      <td>37599773</td>\n",
       "      <td>2023-08-21</td>\n",
       "      <td>[0]</td>\n",
       "    </tr>\n",
       "    <tr>\n",
       "      <th>3</th>\n",
       "      <td>PathNarratives: Data annotation for pathologic...</td>\n",
       "      <td>36777158</td>\n",
       "      <td>2023-02-14</td>\n",
       "      <td>[0, 3]</td>\n",
       "    </tr>\n",
       "    <tr>\n",
       "      <th>4</th>\n",
       "      <td>Explanatory machine learning for justified tru...</td>\n",
       "      <td>36504690</td>\n",
       "      <td>2022-12-13</td>\n",
       "      <td>[0]</td>\n",
       "    </tr>\n",
       "    <tr>\n",
       "      <th>...</th>\n",
       "      <td>...</td>\n",
       "      <td>...</td>\n",
       "      <td>...</td>\n",
       "      <td>...</td>\n",
       "    </tr>\n",
       "    <tr>\n",
       "      <th>212</th>\n",
       "      <td>TNF-α inhibitor reduces drug-resistance to ant...</td>\n",
       "      <td>32310956</td>\n",
       "      <td>2020-04-21</td>\n",
       "      <td>[8]</td>\n",
       "    </tr>\n",
       "    <tr>\n",
       "      <th>213</th>\n",
       "      <td>Treatment options in BRAF-mutant metastatic co...</td>\n",
       "      <td>32304411</td>\n",
       "      <td>2020-04-19</td>\n",
       "      <td>[8]</td>\n",
       "    </tr>\n",
       "    <tr>\n",
       "      <th>214</th>\n",
       "      <td>Heterotrimeric G</td>\n",
       "      <td>32122969</td>\n",
       "      <td>2020-03-04</td>\n",
       "      <td>[8]</td>\n",
       "    </tr>\n",
       "    <tr>\n",
       "      <th>215</th>\n",
       "      <td>Anticancer effects of alloxanthoxyletin and fa...</td>\n",
       "      <td>30544062</td>\n",
       "      <td>2018-12-14</td>\n",
       "      <td>[8]</td>\n",
       "    </tr>\n",
       "    <tr>\n",
       "      <th>216</th>\n",
       "      <td>Molecular Mechanism of Inhibition of Acid Cera...</td>\n",
       "      <td>30525581</td>\n",
       "      <td>2018-12-12</td>\n",
       "      <td>[8]</td>\n",
       "    </tr>\n",
       "  </tbody>\n",
       "</table>\n",
       "<p>217 rows × 4 columns</p>\n",
       "</div>"
      ],
      "text/plain": [
       "                                                 title  pubmedId  \\\n",
       "0    Media Forensic Considerations of the Usage of ...  38392094   \n",
       "1    Towards Human-Centered Explainable AI: A Surve...  37956008   \n",
       "2    Human-AI teaming: leveraging transactive memor...  37599773   \n",
       "3    PathNarratives: Data annotation for pathologic...  36777158   \n",
       "4    Explanatory machine learning for justified tru...  36504690   \n",
       "..                                                 ...       ...   \n",
       "212  TNF-α inhibitor reduces drug-resistance to ant...  32310956   \n",
       "213  Treatment options in BRAF-mutant metastatic co...  32304411   \n",
       "214                                   Heterotrimeric G  32122969   \n",
       "215  Anticancer effects of alloxanthoxyletin and fa...  30544062   \n",
       "216  Molecular Mechanism of Inhibition of Acid Cera...  30525581   \n",
       "\n",
       "    publication_date queryIds  \n",
       "0         2024-02-23      [0]  \n",
       "1         2023-11-13   [0, 1]  \n",
       "2         2023-08-21      [0]  \n",
       "3         2023-02-14   [0, 3]  \n",
       "4         2022-12-13      [0]  \n",
       "..               ...      ...  \n",
       "212       2020-04-21      [8]  \n",
       "213       2020-04-19      [8]  \n",
       "214       2020-03-04      [8]  \n",
       "215       2018-12-14      [8]  \n",
       "216       2018-12-12      [8]  \n",
       "\n",
       "[217 rows x 4 columns]"
      ]
     },
     "execution_count": 45,
     "metadata": {},
     "output_type": "execute_result"
    }
   ],
   "source": [
    "dfUniqueArticles"
   ]
  },
  {
   "cell_type": "markdown",
   "metadata": {},
   "source": [
    "Save the results to the `results` directory"
   ]
  },
  {
   "cell_type": "code",
   "execution_count": 46,
   "metadata": {},
   "outputs": [
    {
     "name": "stdout",
     "output_type": "stream",
     "text": [
      "saving results/dfUniqueArticles.csv\n"
     ]
    }
   ],
   "source": [
    "fn = \"results/dfUniqueArticles.csv\"\n",
    "print(\"saving\",fn)\n",
    "dfUniqueArticles.to_csv(fn)"
   ]
  },
  {
   "cell_type": "code",
   "execution_count": null,
   "metadata": {},
   "outputs": [],
   "source": []
  }
 ],
 "metadata": {
  "kernelspec": {
   "display_name": ".venv",
   "language": "python",
   "name": "python3"
  },
  "language_info": {
   "codemirror_mode": {
    "name": "ipython",
    "version": 3
   },
   "file_extension": ".py",
   "mimetype": "text/x-python",
   "name": "python",
   "nbconvert_exporter": "python",
   "pygments_lexer": "ipython3",
   "version": "3.10.12"
  }
 },
 "nbformat": 4,
 "nbformat_minor": 2
}
