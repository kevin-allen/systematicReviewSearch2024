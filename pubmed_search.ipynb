{
 "cells": [
  {
   "cell_type": "markdown",
   "metadata": {},
   "source": [
    "## Literature search\n",
    "\n",
    "To be able to reproduce the results of my web search for articles for my systematic review, I used the code below.\n",
    "\n",
    "We use PubMed for the search."
   ]
  },
  {
   "cell_type": "code",
   "execution_count": 1,
   "metadata": {},
   "outputs": [],
   "source": [
    "from pymed import PubMed\n",
    "import pandas as pd\n",
    "import numpy as np\n",
    "from datetime import datetime\n",
    "import matplotlib.pyplot as plt\n",
    "pubmed = PubMed(tool=\"MyTool\", email=\"allen@dkfz-heidelberg.de\")\n",
    "\n",
    "def figurePanelDefaultSize():\n",
    "    \"\"\"\n",
    "    Use to keep the size of panels similar across figures\n",
    "    \"\"\"\n",
    "    return (1.8,1.8)\n",
    "\n",
    "def setFigureDefaultParameters():\n",
    "    matplotlib.rcdefaults()\n",
    "    plt.rc('axes', labelsize=10) #fontsize of the title\n",
    "    plt.rc('axes', titlesize=10) #fontsize of the title\n",
    "    plt.rc('axes', linewidth=1.25) \n",
    "    plt.rc(\"xtick.major\", width=1.25)\n",
    "    plt.rc(\"ytick.major\", width=1.25)"
   ]
  },
  {
   "cell_type": "markdown",
   "metadata": {},
   "source": [
    "This is just an example of how we can retrieve articles from a database search. Not part of the review."
   ]
  },
  {
   "cell_type": "code",
   "execution_count": 2,
   "metadata": {},
   "outputs": [],
   "source": [
    "def results_to_dict(results):\n",
    "    articleList = []\n",
    "    for article in results:\n",
    "        articleDict = article.toDict()\n",
    "        articleList.append(articleDict)\n",
    "    return articleList"
   ]
  },
  {
   "cell_type": "markdown",
   "metadata": {},
   "source": [
    "We build a list of queries and then loop through them to retrieve our paper of interests.\n",
    "\n",
    "We can do separate searches instead of combining many together. This gives data to identify the popular terms.\n",
    "\n",
    "Put the publication date filter at the end."
   ]
  },
  {
   "cell_type": "code",
   "execution_count": 3,
   "metadata": {},
   "outputs": [
    {
     "data": {
      "text/plain": [
       "'(\"2019/01/01\"[Date - Publication] : \"2024/04/01\"[Date - Publication])'"
      ]
     },
     "execution_count": 3,
     "metadata": {},
     "output_type": "execute_result"
    }
   ],
   "source": [
    "startDate=\"2019/01/01\"\n",
    "endDate=\"2024/04/01\"\n",
    "dateFilter = f\"(\\\"{startDate}\\\"[Date - Publication] : \\\"{endDate}\\\"[Date - Publication])\"\n",
    "dateFilter"
   ]
  },
  {
   "cell_type": "code",
   "execution_count": 4,
   "metadata": {},
   "outputs": [],
   "source": [
    "queryList = [# queries with explainable AI and human-AI interactions, without reference to cancer\n",
    "             #\"(human-AI interactions) AND (explainable AI)\", # used for introduction\n",
    "             #\"(human-centered AI) AND (explainable AI)\", # used for introduction\n",
    "             #\"(human-machine interactions) AND (explainable AI)\", # used for introduction\n",
    "             \n",
    "             # used for systematic review\n",
    "\n",
    "             # queries with human-AI interactions and cancer\n",
    "             \"(human-AI interaction) AND ((oncology) OR (cancer))\",\n",
    "             \"(human-centered AI) AND ((oncology) OR (cancer))\",\n",
    "             \"(human-machine interaction) AND ((oncology) OR (cancer))\",\n",
    "            \n",
    "             # queries with explainable AI and 3 specific areas of oncology, otherwise we get too many results\n",
    "             \"(explainable AI) AND (cancer radiology)\",\n",
    "             \"(explainable AI) AND (skin cancer)\",\n",
    "             \"(explainable AI) AND (melanoma)\"]"
   ]
  },
  {
   "cell_type": "code",
   "execution_count": 5,
   "metadata": {},
   "outputs": [],
   "source": [
    "queryList = [ q+f\" AND {dateFilter}\"for q in queryList]"
   ]
  },
  {
   "cell_type": "code",
   "execution_count": 6,
   "metadata": {},
   "outputs": [
    {
     "data": {
      "text/plain": [
       "['(human-AI interaction) AND ((oncology) OR (cancer)) AND (\"2019/01/01\"[Date - Publication] : \"2024/04/01\"[Date - Publication])',\n",
       " '(human-centered AI) AND ((oncology) OR (cancer)) AND (\"2019/01/01\"[Date - Publication] : \"2024/04/01\"[Date - Publication])',\n",
       " '(human-machine interaction) AND ((oncology) OR (cancer)) AND (\"2019/01/01\"[Date - Publication] : \"2024/04/01\"[Date - Publication])',\n",
       " '(explainable AI) AND (cancer radiology) AND (\"2019/01/01\"[Date - Publication] : \"2024/04/01\"[Date - Publication])',\n",
       " '(explainable AI) AND (skin cancer) AND (\"2019/01/01\"[Date - Publication] : \"2024/04/01\"[Date - Publication])',\n",
       " '(explainable AI) AND (melanoma) AND (\"2019/01/01\"[Date - Publication] : \"2024/04/01\"[Date - Publication])']"
      ]
     },
     "execution_count": 6,
     "metadata": {},
     "output_type": "execute_result"
    }
   ],
   "source": [
    "queryList"
   ]
  },
  {
   "cell_type": "markdown",
   "metadata": {},
   "source": [
    "Add a second set of queries to estimate the number of studies that test how AI improves the oncologist."
   ]
  },
  {
   "cell_type": "code",
   "execution_count": 7,
   "metadata": {},
   "outputs": [],
   "source": [
    "queryList2 = [\"(deep learning) AND (melanoma) AND (diagnostic) AND (\\\"2019/01/01\\\"[Date - Publication] : \\\"2019/12/31\\\"[Date - Publication])\",\n",
    "              \"(deep learning) AND (melanoma) AND (diagnostic) AND (\\\"2023/01/01\\\"[Date - Publication] : \\\"2023/12/31\\\"[Date - Publication])\"]"
   ]
  },
  {
   "cell_type": "markdown",
   "metadata": {},
   "source": [
    "Create a nice representation of the query for plotting."
   ]
  },
  {
   "cell_type": "code",
   "execution_count": 8,
   "metadata": {},
   "outputs": [],
   "source": [
    "def format_query(q):\n",
    "    q = q.split(\"AND\")[:-1]\n",
    "    q = [str.strip() for str in q]\n",
    "    q = [str.replace(\"(\",\"\") for str in q]\n",
    "    q = [str.replace(\")\",\"\") for str in q]\n",
    "    q = \" AND \".join(q)\n",
    "    q = q[0].upper() + q[1:]\n",
    "    return q"
   ]
  },
  {
   "cell_type": "code",
   "execution_count": 9,
   "metadata": {},
   "outputs": [],
   "source": [
    "dfQueries= pd.DataFrame({\"query\": queryList,\n",
    "                         \"queryFormatted\": [ format_query(q) for q in queryList],\n",
    "                         \"queryNo\": np.arange(len(queryList))})"
   ]
  },
  {
   "cell_type": "code",
   "execution_count": 10,
   "metadata": {},
   "outputs": [
    {
     "data": {
      "text/html": [
       "<div>\n",
       "<style scoped>\n",
       "    .dataframe tbody tr th:only-of-type {\n",
       "        vertical-align: middle;\n",
       "    }\n",
       "\n",
       "    .dataframe tbody tr th {\n",
       "        vertical-align: top;\n",
       "    }\n",
       "\n",
       "    .dataframe thead th {\n",
       "        text-align: right;\n",
       "    }\n",
       "</style>\n",
       "<table border=\"1\" class=\"dataframe\">\n",
       "  <thead>\n",
       "    <tr style=\"text-align: right;\">\n",
       "      <th></th>\n",
       "      <th>query</th>\n",
       "      <th>queryFormatted</th>\n",
       "      <th>queryNo</th>\n",
       "    </tr>\n",
       "  </thead>\n",
       "  <tbody>\n",
       "    <tr>\n",
       "      <th>0</th>\n",
       "      <td>(human-AI interaction) AND ((oncology) OR (can...</td>\n",
       "      <td>Human-AI interaction AND oncology OR cancer</td>\n",
       "      <td>0</td>\n",
       "    </tr>\n",
       "    <tr>\n",
       "      <th>1</th>\n",
       "      <td>(human-centered AI) AND ((oncology) OR (cancer...</td>\n",
       "      <td>Human-centered AI AND oncology OR cancer</td>\n",
       "      <td>1</td>\n",
       "    </tr>\n",
       "    <tr>\n",
       "      <th>2</th>\n",
       "      <td>(human-machine interaction) AND ((oncology) OR...</td>\n",
       "      <td>Human-machine interaction AND oncology OR cancer</td>\n",
       "      <td>2</td>\n",
       "    </tr>\n",
       "    <tr>\n",
       "      <th>3</th>\n",
       "      <td>(explainable AI) AND (cancer radiology) AND (\"...</td>\n",
       "      <td>Explainable AI AND cancer radiology</td>\n",
       "      <td>3</td>\n",
       "    </tr>\n",
       "    <tr>\n",
       "      <th>4</th>\n",
       "      <td>(explainable AI) AND (skin cancer) AND (\"2019/...</td>\n",
       "      <td>Explainable AI AND skin cancer</td>\n",
       "      <td>4</td>\n",
       "    </tr>\n",
       "    <tr>\n",
       "      <th>5</th>\n",
       "      <td>(explainable AI) AND (melanoma) AND (\"2019/01/...</td>\n",
       "      <td>Explainable AI AND melanoma</td>\n",
       "      <td>5</td>\n",
       "    </tr>\n",
       "  </tbody>\n",
       "</table>\n",
       "</div>"
      ],
      "text/plain": [
       "                                               query  \\\n",
       "0  (human-AI interaction) AND ((oncology) OR (can...   \n",
       "1  (human-centered AI) AND ((oncology) OR (cancer...   \n",
       "2  (human-machine interaction) AND ((oncology) OR...   \n",
       "3  (explainable AI) AND (cancer radiology) AND (\"...   \n",
       "4  (explainable AI) AND (skin cancer) AND (\"2019/...   \n",
       "5  (explainable AI) AND (melanoma) AND (\"2019/01/...   \n",
       "\n",
       "                                     queryFormatted  queryNo  \n",
       "0       Human-AI interaction AND oncology OR cancer        0  \n",
       "1          Human-centered AI AND oncology OR cancer        1  \n",
       "2  Human-machine interaction AND oncology OR cancer        2  \n",
       "3               Explainable AI AND cancer radiology        3  \n",
       "4                    Explainable AI AND skin cancer        4  \n",
       "5                       Explainable AI AND melanoma        5  "
      ]
     },
     "execution_count": 10,
     "metadata": {},
     "output_type": "execute_result"
    }
   ],
   "source": [
    "dfQueries\n"
   ]
  },
  {
   "cell_type": "code",
   "execution_count": 11,
   "metadata": {},
   "outputs": [],
   "source": [
    "dfQueries2 = pd.DataFrame({\"query\": queryList2,\n",
    "                           \"queryFormatted\": [ format_query(q) for q in queryList2],\n",
    "                            \"queryNo\": np.arange(len(queryList2))})"
   ]
  },
  {
   "cell_type": "code",
   "execution_count": 12,
   "metadata": {},
   "outputs": [
    {
     "name": "stdout",
     "output_type": "stream",
     "text": [
      "Saving results/dfQueries\n"
     ]
    }
   ],
   "source": [
    "fn = \"results/dfQueries\"\n",
    "print(\"Saving\",fn)\n",
    "dfQueries.to_csv(fn)"
   ]
  },
  {
   "cell_type": "markdown",
   "metadata": {},
   "source": [
    "Fetch our articles"
   ]
  },
  {
   "cell_type": "code",
   "execution_count": 13,
   "metadata": {},
   "outputs": [
    {
     "name": "stdout",
     "output_type": "stream",
     "text": [
      "Saving results/dfQueries2\n"
     ]
    }
   ],
   "source": [
    "fn = \"results/dfQueries2\"\n",
    "print(\"Saving\",fn)\n",
    "dfQueries2.to_csv(fn)"
   ]
  },
  {
   "cell_type": "code",
   "execution_count": 14,
   "metadata": {},
   "outputs": [
    {
     "name": "stdout",
     "output_type": "stream",
     "text": [
      "Fetching articles for query 0: (human-AI interaction) AND ((oncology) OR (cancer)) AND (\"2019/01/01\"[Date - Publication] : \"2024/04/01\"[Date - Publication])\n",
      "Found 12 articles\n",
      "Fetching articles for query 1: (human-centered AI) AND ((oncology) OR (cancer)) AND (\"2019/01/01\"[Date - Publication] : \"2024/04/01\"[Date - Publication])\n",
      "Found 23 articles\n",
      "Fetching articles for query 2: (human-machine interaction) AND ((oncology) OR (cancer)) AND (\"2019/01/01\"[Date - Publication] : \"2024/04/01\"[Date - Publication])\n",
      "Found 15 articles\n",
      "Fetching articles for query 3: (explainable AI) AND (cancer radiology) AND (\"2019/01/01\"[Date - Publication] : \"2024/04/01\"[Date - Publication])\n",
      "Found 68 articles\n",
      "Fetching articles for query 4: (explainable AI) AND (skin cancer) AND (\"2019/01/01\"[Date - Publication] : \"2024/04/01\"[Date - Publication])\n",
      "Found 50 articles\n",
      "Fetching articles for query 5: (explainable AI) AND (melanoma) AND (\"2019/01/01\"[Date - Publication] : \"2024/04/01\"[Date - Publication])\n",
      "Found 44 articles\n"
     ]
    }
   ],
   "source": [
    "articleList = []\n",
    "for i, query in enumerate(queryList):\n",
    "    print(f\"Fetching articles for query {i}: {query}\")\n",
    "    results = pubmed.query(query, max_results=100000)\n",
    "    myRes = results_to_dict(results) # get a list of dictionaries from itertools.chain object\n",
    "    # add a query field to the dictionaries\n",
    "    for d in myRes:\n",
    "        d[\"queryNo\"] = i\n",
    "    print(f\"Found {len(myRes)} articles\")\n",
    "    articleList = articleList + myRes"
   ]
  },
  {
   "cell_type": "code",
   "execution_count": 15,
   "metadata": {},
   "outputs": [
    {
     "name": "stdout",
     "output_type": "stream",
     "text": [
      "Fetching articles for query 0: (deep learning) AND (melanoma) AND (diagnostic) AND (\"2019/01/01\"[Date - Publication] : \"2019/12/31\"[Date - Publication])\n",
      "Found 53 articles\n",
      "Fetching articles for query 1: (deep learning) AND (melanoma) AND (diagnostic) AND (\"2023/01/01\"[Date - Publication] : \"2023/12/31\"[Date - Publication])\n",
      "Found 95 articles\n"
     ]
    }
   ],
   "source": [
    "articleList2 = []\n",
    "for i, query in enumerate(queryList2):\n",
    "    print(f\"Fetching articles for query {i}: {query}\")\n",
    "    results = pubmed.query(query, max_results=100000)\n",
    "    myRes = results_to_dict(results) # get a list of dictionaries from itertools.chain object\n",
    "    # add a query field to the dictionaries\n",
    "    for d in myRes:\n",
    "        d[\"queryNo\"] = i\n",
    "    print(f\"Found {len(myRes)} articles\")\n",
    "    articleList2 = articleList2 + myRes"
   ]
  },
  {
   "cell_type": "code",
   "execution_count": 16,
   "metadata": {},
   "outputs": [
    {
     "data": {
      "text/plain": [
       "dict_keys(['pubmed_id', 'title', 'abstract', 'keywords', 'journal', 'publication_date', 'authors', 'methods', 'conclusions', 'results', 'copyrights', 'doi', 'xml', 'queryNo'])"
      ]
     },
     "execution_count": 16,
     "metadata": {},
     "output_type": "execute_result"
    }
   ],
   "source": [
    "articleList[0].keys()"
   ]
  },
  {
   "cell_type": "code",
   "execution_count": 17,
   "metadata": {},
   "outputs": [],
   "source": [
    "dfArticles = pd.DataFrame({\"title\": [ a[\"title\"] for a in articleList],\n",
    "                   \"pubmedId\" : [ a[\"pubmed_id\"].split(\"\\n\")[0] for a in articleList],\n",
    "                   \"queryNo\" : [ a[\"queryNo\"] for a in articleList],\n",
    "                   \"publication_date\": [ a[\"publication_date\"] for a in articleList],\n",
    "                   \"doi\": [ a[\"doi\"] for a in articleList]})\n",
    "                   #'journal': ([ a[\"journal\"] for a in articleList])})\n",
    "dfArticles.publication_date = pd.to_datetime(dfArticles.publication_date)                   "
   ]
  },
  {
   "cell_type": "code",
   "execution_count": 18,
   "metadata": {},
   "outputs": [
    {
     "name": "stdout",
     "output_type": "stream",
     "text": [
      "Number of items retrieved: 212 articles\n",
      "Number of unique items retrieved: 180\n"
     ]
    }
   ],
   "source": [
    "print(f\"Number of items retrieved: {len(dfArticles.pubmedId)} articles\")\n",
    "print(f\"Number of unique items retrieved: {len(dfArticles.pubmedId.unique())}\")"
   ]
  },
  {
   "cell_type": "code",
   "execution_count": 19,
   "metadata": {},
   "outputs": [],
   "source": [
    "dfArticles2 = pd.DataFrame({\"title\": [ a[\"title\"] for a in articleList2],\n",
    "                     \"pubmedId\" : [ a[\"pubmed_id\"].split(\"\\n\")[0] for a in articleList2],\n",
    "                     \"queryNo\" : [ a[\"queryNo\"] for a in articleList2],\n",
    "                     \"publication_date\": [ a[\"publication_date\"] for a in articleList2],\n",
    "                     \"doi\": [ a[\"doi\"] for a in articleList2]})\n",
    "dfArticles2.publication_date = pd.to_datetime(dfArticles2.publication_date)"
   ]
  },
  {
   "cell_type": "code",
   "execution_count": 20,
   "metadata": {},
   "outputs": [
    {
     "name": "stdout",
     "output_type": "stream",
     "text": [
      "Number of items retrieved: 148 articles\n"
     ]
    }
   ],
   "source": [
    "print(f\"Number of items retrieved: {len(dfArticles2.pubmedId)} articles\")"
   ]
  },
  {
   "cell_type": "code",
   "execution_count": 21,
   "metadata": {},
   "outputs": [
    {
     "name": "stdout",
     "output_type": "stream",
     "text": [
      "saving results/dfArticles2.csv\n"
     ]
    }
   ],
   "source": [
    "fn = \"results/dfArticles2.csv\"\n",
    "print(\"saving\",fn)\n",
    "dfArticles2.to_csv(fn)"
   ]
  },
  {
   "cell_type": "markdown",
   "metadata": {},
   "source": [
    "Calculate the number of articles per queries."
   ]
  },
  {
   "cell_type": "code",
   "execution_count": 22,
   "metadata": {},
   "outputs": [],
   "source": [
    "seriesvc = dfArticles.queryNo.value_counts()"
   ]
  },
  {
   "cell_type": "code",
   "execution_count": 23,
   "metadata": {},
   "outputs": [
    {
     "data": {
      "text/html": [
       "<div>\n",
       "<style scoped>\n",
       "    .dataframe tbody tr th:only-of-type {\n",
       "        vertical-align: middle;\n",
       "    }\n",
       "\n",
       "    .dataframe tbody tr th {\n",
       "        vertical-align: top;\n",
       "    }\n",
       "\n",
       "    .dataframe thead th {\n",
       "        text-align: right;\n",
       "    }\n",
       "</style>\n",
       "<table border=\"1\" class=\"dataframe\">\n",
       "  <thead>\n",
       "    <tr style=\"text-align: right;\">\n",
       "      <th></th>\n",
       "      <th>query</th>\n",
       "      <th>queryFormatted</th>\n",
       "      <th>queryNo</th>\n",
       "      <th>nArticles</th>\n",
       "    </tr>\n",
       "  </thead>\n",
       "  <tbody>\n",
       "    <tr>\n",
       "      <th>0</th>\n",
       "      <td>(human-AI interaction) AND ((oncology) OR (can...</td>\n",
       "      <td>Human-AI interaction AND oncology OR cancer</td>\n",
       "      <td>0</td>\n",
       "      <td>12</td>\n",
       "    </tr>\n",
       "    <tr>\n",
       "      <th>1</th>\n",
       "      <td>(human-centered AI) AND ((oncology) OR (cancer...</td>\n",
       "      <td>Human-centered AI AND oncology OR cancer</td>\n",
       "      <td>1</td>\n",
       "      <td>23</td>\n",
       "    </tr>\n",
       "    <tr>\n",
       "      <th>2</th>\n",
       "      <td>(human-machine interaction) AND ((oncology) OR...</td>\n",
       "      <td>Human-machine interaction AND oncology OR cancer</td>\n",
       "      <td>2</td>\n",
       "      <td>15</td>\n",
       "    </tr>\n",
       "    <tr>\n",
       "      <th>3</th>\n",
       "      <td>(explainable AI) AND (cancer radiology) AND (\"...</td>\n",
       "      <td>Explainable AI AND cancer radiology</td>\n",
       "      <td>3</td>\n",
       "      <td>68</td>\n",
       "    </tr>\n",
       "    <tr>\n",
       "      <th>4</th>\n",
       "      <td>(explainable AI) AND (skin cancer) AND (\"2019/...</td>\n",
       "      <td>Explainable AI AND skin cancer</td>\n",
       "      <td>4</td>\n",
       "      <td>50</td>\n",
       "    </tr>\n",
       "    <tr>\n",
       "      <th>5</th>\n",
       "      <td>(explainable AI) AND (melanoma) AND (\"2019/01/...</td>\n",
       "      <td>Explainable AI AND melanoma</td>\n",
       "      <td>5</td>\n",
       "      <td>44</td>\n",
       "    </tr>\n",
       "  </tbody>\n",
       "</table>\n",
       "</div>"
      ],
      "text/plain": [
       "                                               query  \\\n",
       "0  (human-AI interaction) AND ((oncology) OR (can...   \n",
       "1  (human-centered AI) AND ((oncology) OR (cancer...   \n",
       "2  (human-machine interaction) AND ((oncology) OR...   \n",
       "3  (explainable AI) AND (cancer radiology) AND (\"...   \n",
       "4  (explainable AI) AND (skin cancer) AND (\"2019/...   \n",
       "5  (explainable AI) AND (melanoma) AND (\"2019/01/...   \n",
       "\n",
       "                                     queryFormatted  queryNo  nArticles  \n",
       "0       Human-AI interaction AND oncology OR cancer        0         12  \n",
       "1          Human-centered AI AND oncology OR cancer        1         23  \n",
       "2  Human-machine interaction AND oncology OR cancer        2         15  \n",
       "3               Explainable AI AND cancer radiology        3         68  \n",
       "4                    Explainable AI AND skin cancer        4         50  \n",
       "5                       Explainable AI AND melanoma        5         44  "
      ]
     },
     "execution_count": 23,
     "metadata": {},
     "output_type": "execute_result"
    }
   ],
   "source": [
    "# merge two dataframe based on queryNo\n",
    "dfQueries = dfQueries.merge(seriesvc, on='queryNo')\n",
    "dfQueries.rename(columns={\"count\":\"nArticles\"}, inplace=True)\n",
    "dfQueries"
   ]
  },
  {
   "cell_type": "code",
   "execution_count": 24,
   "metadata": {},
   "outputs": [
    {
     "name": "stdout",
     "output_type": "stream",
     "text": [
      "Saving results/dfQueries.csv\n"
     ]
    }
   ],
   "source": [
    "fn = \"results/dfQueries.csv\"\n",
    "print(\"Saving\",fn)\n",
    "dfQueries.to_csv(fn)"
   ]
  },
  {
   "cell_type": "code",
   "execution_count": 25,
   "metadata": {},
   "outputs": [
    {
     "data": {
      "text/html": [
       "<div>\n",
       "<style scoped>\n",
       "    .dataframe tbody tr th:only-of-type {\n",
       "        vertical-align: middle;\n",
       "    }\n",
       "\n",
       "    .dataframe tbody tr th {\n",
       "        vertical-align: top;\n",
       "    }\n",
       "\n",
       "    .dataframe thead th {\n",
       "        text-align: right;\n",
       "    }\n",
       "</style>\n",
       "<table border=\"1\" class=\"dataframe\">\n",
       "  <thead>\n",
       "    <tr style=\"text-align: right;\">\n",
       "      <th></th>\n",
       "      <th>query</th>\n",
       "      <th>queryFormatted</th>\n",
       "      <th>queryNo</th>\n",
       "      <th>nArticles</th>\n",
       "    </tr>\n",
       "  </thead>\n",
       "  <tbody>\n",
       "    <tr>\n",
       "      <th>0</th>\n",
       "      <td>(human-AI interaction) AND ((oncology) OR (can...</td>\n",
       "      <td>Human-AI interaction AND oncology OR cancer</td>\n",
       "      <td>0</td>\n",
       "      <td>12</td>\n",
       "    </tr>\n",
       "    <tr>\n",
       "      <th>1</th>\n",
       "      <td>(human-centered AI) AND ((oncology) OR (cancer...</td>\n",
       "      <td>Human-centered AI AND oncology OR cancer</td>\n",
       "      <td>1</td>\n",
       "      <td>23</td>\n",
       "    </tr>\n",
       "    <tr>\n",
       "      <th>2</th>\n",
       "      <td>(human-machine interaction) AND ((oncology) OR...</td>\n",
       "      <td>Human-machine interaction AND oncology OR cancer</td>\n",
       "      <td>2</td>\n",
       "      <td>15</td>\n",
       "    </tr>\n",
       "    <tr>\n",
       "      <th>3</th>\n",
       "      <td>(explainable AI) AND (cancer radiology) AND (\"...</td>\n",
       "      <td>Explainable AI AND cancer radiology</td>\n",
       "      <td>3</td>\n",
       "      <td>68</td>\n",
       "    </tr>\n",
       "    <tr>\n",
       "      <th>4</th>\n",
       "      <td>(explainable AI) AND (skin cancer) AND (\"2019/...</td>\n",
       "      <td>Explainable AI AND skin cancer</td>\n",
       "      <td>4</td>\n",
       "      <td>50</td>\n",
       "    </tr>\n",
       "    <tr>\n",
       "      <th>5</th>\n",
       "      <td>(explainable AI) AND (melanoma) AND (\"2019/01/...</td>\n",
       "      <td>Explainable AI AND melanoma</td>\n",
       "      <td>5</td>\n",
       "      <td>44</td>\n",
       "    </tr>\n",
       "  </tbody>\n",
       "</table>\n",
       "</div>"
      ],
      "text/plain": [
       "                                               query  \\\n",
       "0  (human-AI interaction) AND ((oncology) OR (can...   \n",
       "1  (human-centered AI) AND ((oncology) OR (cancer...   \n",
       "2  (human-machine interaction) AND ((oncology) OR...   \n",
       "3  (explainable AI) AND (cancer radiology) AND (\"...   \n",
       "4  (explainable AI) AND (skin cancer) AND (\"2019/...   \n",
       "5  (explainable AI) AND (melanoma) AND (\"2019/01/...   \n",
       "\n",
       "                                     queryFormatted  queryNo  nArticles  \n",
       "0       Human-AI interaction AND oncology OR cancer        0         12  \n",
       "1          Human-centered AI AND oncology OR cancer        1         23  \n",
       "2  Human-machine interaction AND oncology OR cancer        2         15  \n",
       "3               Explainable AI AND cancer radiology        3         68  \n",
       "4                    Explainable AI AND skin cancer        4         50  \n",
       "5                       Explainable AI AND melanoma        5         44  "
      ]
     },
     "execution_count": 25,
     "metadata": {},
     "output_type": "execute_result"
    }
   ],
   "source": [
    "dfQueries"
   ]
  },
  {
   "cell_type": "markdown",
   "metadata": {},
   "source": [
    "We can make a summary plot of the results"
   ]
  },
  {
   "cell_type": "code",
   "execution_count": null,
   "metadata": {},
   "outputs": [],
   "source": []
  },
  {
   "cell_type": "code",
   "execution_count": 26,
   "metadata": {},
   "outputs": [
    {
     "data": {
      "image/png": "[encoded data removed]",
      "text/plain": [
       "<Figure size 180x180 with 1 Axes>"
      ]
     },
     "metadata": {},
     "output_type": "display_data"
    }
   ],
   "source": [
    "def plot_articles_per_query(ax,df):\n",
    "    \n",
    "    ylabels = df.queryFormatted\n",
    "    ypos = np.arange(len(ylabels))\n",
    "    ax.barh(ypos,df[\"nArticles\"])\n",
    "    ax.set_yticks(ypos,ylabels)\n",
    "    ax.set_ylabel(\"\")\n",
    "    ax.set_xlabel(\"Articles\")\n",
    "    ax.spines['top'].set_visible(False)\n",
    "    ax.spines['right'].set_visible(False) \n",
    "\n",
    "rowSize,colSize= figurePanelDefaultSize()\n",
    "fig, ax = plt.subplots(1, 1, figsize=(colSize,rowSize))\n",
    "\n",
    "df = dfQueries[~dfQueries.queryFormatted.str.contains(\"AND AI\")] # remove the control searches\n",
    "plot_articles_per_query(ax,df)"
   ]
  },
  {
   "cell_type": "markdown",
   "metadata": {},
   "source": [
    "It could be interesting to show that explainable AI is on the rise, the frequency of articles should be increasing with time."
   ]
  },
  {
   "cell_type": "code",
   "execution_count": 27,
   "metadata": {},
   "outputs": [
    {
     "name": "stdout",
     "output_type": "stream",
     "text": [
      "Queries with XAI\n",
      "3    3\n",
      "4    4\n",
      "5    5\n",
      "Name: queryNo, dtype: int64\n"
     ]
    }
   ],
   "source": [
    "# test if explainable AI is in the query\n",
    "qExplainable = dfQueries.queryNo[dfQueries.queryFormatted.str.contains(\"Explainable AI\",case=False)]\n",
    "print(\"Queries with XAI\")\n",
    "print(qExplainable)\n",
    "dfXAIArticles= dfArticles[dfArticles.queryNo.isin(qExplainable)]"
   ]
  },
  {
   "cell_type": "code",
   "execution_count": 28,
   "metadata": {},
   "outputs": [],
   "source": [
    "def plot_distribution_pub_dates(ax,df,ylabel=\"Articles\"):\n",
    "    ax.hist(df['publication_date'], bins=4*4+1) # 4 years and 1 quarter\n",
    "    ax.set_xlabel('Publication Date')\n",
    "    ax.set_ylabel(ylabel)\n",
    "    ax.spines['top'].set_visible(False)\n",
    "    ax.spines['right'].set_visible(False)\n",
    "    # show the dates on the x-axis, only show 2020 and 2024\n",
    "    ax.set_xticks([datetime(2020,1,1),datetime(2022,1,1),datetime(2024,1,1)])\n",
    "    # set the xticks labels\n",
    "    ax.set_xticklabels(['2020', '2022', '2024'])\n",
    " "
   ]
  },
  {
   "cell_type": "code",
   "execution_count": 29,
   "metadata": {},
   "outputs": [
    {
     "data": {
      "image/png": "[encoded data removed]",
      "text/plain": [
       "<Figure size 180x180 with 1 Axes>"
      ]
     },
     "metadata": {},
     "output_type": "display_data"
    }
   ],
   "source": [
    "rowSize,colSize= figurePanelDefaultSize()\n",
    "fig, ax = plt.subplots(1, 1, figsize=(colSize, rowSize))\n",
    "plot_distribution_pub_dates(ax,dfXAIArticles,ylabel=\"XAI articles\")"
   ]
  },
  {
   "cell_type": "code",
   "execution_count": 30,
   "metadata": {},
   "outputs": [
    {
     "name": "stdout",
     "output_type": "stream",
     "text": [
      "Queries with Human-centered AI\n",
      "1    1\n",
      "Name: queryNo, dtype: int64\n"
     ]
    }
   ],
   "source": [
    "qHuman = dfQueries.queryNo[dfQueries.queryFormatted.str.contains(\"Human-centered AI\",case=False)]\n",
    "print(\"Queries with Human-centered AI\")\n",
    "print(qHuman)\n",
    "dfHumanArticles= dfArticles[dfArticles.queryNo.isin(qHuman)]"
   ]
  },
  {
   "cell_type": "code",
   "execution_count": 31,
   "metadata": {},
   "outputs": [
    {
     "data": {
      "image/png": "[encoded data removed]",
      "text/plain": [
       "<Figure size 180x180 with 1 Axes>"
      ]
     },
     "metadata": {},
     "output_type": "display_data"
    }
   ],
   "source": [
    "rowSize,colSize= figurePanelDefaultSize()\n",
    "fig, ax = plt.subplots(1, 1, figsize=(colSize, rowSize))\n",
    "plot_distribution_pub_dates(ax,dfHumanArticles,ylabel=\"HCAI articles\")"
   ]
  },
  {
   "cell_type": "code",
   "execution_count": 32,
   "metadata": {},
   "outputs": [
    {
     "data": {
      "text/html": [
       "<div>\n",
       "<style scoped>\n",
       "    .dataframe tbody tr th:only-of-type {\n",
       "        vertical-align: middle;\n",
       "    }\n",
       "\n",
       "    .dataframe tbody tr th {\n",
       "        vertical-align: top;\n",
       "    }\n",
       "\n",
       "    .dataframe thead th {\n",
       "        text-align: right;\n",
       "    }\n",
       "</style>\n",
       "<table border=\"1\" class=\"dataframe\">\n",
       "  <thead>\n",
       "    <tr style=\"text-align: right;\">\n",
       "      <th></th>\n",
       "      <th>query</th>\n",
       "      <th>queryFormatted</th>\n",
       "      <th>queryNo</th>\n",
       "      <th>nArticles</th>\n",
       "    </tr>\n",
       "  </thead>\n",
       "  <tbody>\n",
       "    <tr>\n",
       "      <th>0</th>\n",
       "      <td>(human-AI interaction) AND ((oncology) OR (can...</td>\n",
       "      <td>Human-AI interaction AND oncology OR cancer</td>\n",
       "      <td>0</td>\n",
       "      <td>12</td>\n",
       "    </tr>\n",
       "    <tr>\n",
       "      <th>1</th>\n",
       "      <td>(human-centered AI) AND ((oncology) OR (cancer...</td>\n",
       "      <td>Human-centered AI AND oncology OR cancer</td>\n",
       "      <td>1</td>\n",
       "      <td>23</td>\n",
       "    </tr>\n",
       "    <tr>\n",
       "      <th>2</th>\n",
       "      <td>(human-machine interaction) AND ((oncology) OR...</td>\n",
       "      <td>Human-machine interaction AND oncology OR cancer</td>\n",
       "      <td>2</td>\n",
       "      <td>15</td>\n",
       "    </tr>\n",
       "    <tr>\n",
       "      <th>3</th>\n",
       "      <td>(explainable AI) AND (cancer radiology) AND (\"...</td>\n",
       "      <td>Explainable AI AND cancer radiology</td>\n",
       "      <td>3</td>\n",
       "      <td>68</td>\n",
       "    </tr>\n",
       "    <tr>\n",
       "      <th>4</th>\n",
       "      <td>(explainable AI) AND (skin cancer) AND (\"2019/...</td>\n",
       "      <td>Explainable AI AND skin cancer</td>\n",
       "      <td>4</td>\n",
       "      <td>50</td>\n",
       "    </tr>\n",
       "    <tr>\n",
       "      <th>5</th>\n",
       "      <td>(explainable AI) AND (melanoma) AND (\"2019/01/...</td>\n",
       "      <td>Explainable AI AND melanoma</td>\n",
       "      <td>5</td>\n",
       "      <td>44</td>\n",
       "    </tr>\n",
       "  </tbody>\n",
       "</table>\n",
       "</div>"
      ],
      "text/plain": [
       "                                               query  \\\n",
       "0  (human-AI interaction) AND ((oncology) OR (can...   \n",
       "1  (human-centered AI) AND ((oncology) OR (cancer...   \n",
       "2  (human-machine interaction) AND ((oncology) OR...   \n",
       "3  (explainable AI) AND (cancer radiology) AND (\"...   \n",
       "4  (explainable AI) AND (skin cancer) AND (\"2019/...   \n",
       "5  (explainable AI) AND (melanoma) AND (\"2019/01/...   \n",
       "\n",
       "                                     queryFormatted  queryNo  nArticles  \n",
       "0       Human-AI interaction AND oncology OR cancer        0         12  \n",
       "1          Human-centered AI AND oncology OR cancer        1         23  \n",
       "2  Human-machine interaction AND oncology OR cancer        2         15  \n",
       "3               Explainable AI AND cancer radiology        3         68  \n",
       "4                    Explainable AI AND skin cancer        4         50  \n",
       "5                       Explainable AI AND melanoma        5         44  "
      ]
     },
     "execution_count": 32,
     "metadata": {},
     "output_type": "execute_result"
    }
   ],
   "source": [
    "dfQueries"
   ]
  },
  {
   "cell_type": "code",
   "execution_count": 33,
   "metadata": {},
   "outputs": [
    {
     "data": {
      "image/png": "[encoded data removed]",
      "text/plain": [
       "<Figure size 810x360 with 3 Axes>"
      ]
     },
     "metadata": {},
     "output_type": "display_data"
    }
   ],
   "source": [
    "fig = plt.figure(figsize=(colSize*4.5, rowSize*2),constrained_layout=True)\n",
    "topSpec = fig.add_gridspec(ncols=2, nrows=2, height_ratios=[0.8,1])\n",
    "bottomSpec = fig.add_gridspec(ncols=4, nrows=2,  height_ratios=[1,0.7])\n",
    "\n",
    "ax = fig.add_subplot(topSpec[0,:]) \n",
    "df = dfQueries[~dfQueries.queryFormatted.str.contains(\"AND AI\")] # remove the control searches\n",
    "plot_articles_per_query(ax,df)\n",
    "\n",
    "ax = fig.add_subplot(bottomSpec[1,0]) \n",
    "plot_distribution_pub_dates(ax,dfXAIArticles,ylabel=\"XAI articles\")\n",
    "\n",
    "ax = fig.add_subplot(bottomSpec[1,1]) \n",
    "plot_distribution_pub_dates(ax,dfHumanArticles,ylabel=\"HCAI articles\")\n",
    "\n"
   ]
  },
  {
   "cell_type": "markdown",
   "metadata": {},
   "source": [
    "Create a DataFrame with unique entries for the review. Remove entries for our control searches."
   ]
  },
  {
   "cell_type": "code",
   "execution_count": 37,
   "metadata": {},
   "outputs": [],
   "source": [
    "dfArticles\n",
    "q = dfQueries[~dfQueries.queryFormatted.str.contains(\"AND AI\")].queryNo # this is used to remove the control queries\n",
    "dfArticles = dfArticles[dfArticles.queryNo.isin(q)]\n"
   ]
  },
  {
   "cell_type": "code",
   "execution_count": 38,
   "metadata": {},
   "outputs": [],
   "source": [
    "myList = []\n",
    "for pubmedId in dfArticles.pubmedId.unique():\n",
    "    adf = dfArticles[dfArticles.pubmedId==pubmedId]\n",
    "    queryList = adf.queryNo.to_string(header=False,index=False).split('\\n')\n",
    "    entry = {\"title\":adf.title.iloc[0],\n",
    "             \"publication_date\":adf.publication_date.iloc[0],\n",
    "             #\"journal\":adf.journal.iloc[0],\n",
    "             \"pubmedId\":pubmedId,\n",
    "             \"queryIds\":queryList,\n",
    "             \"doi\":adf.doi.iloc[0],}\n",
    "    myList.append(entry)"
   ]
  },
  {
   "cell_type": "code",
   "execution_count": 39,
   "metadata": {},
   "outputs": [],
   "source": [
    "dfUniqueArticles = pd.DataFrame({\"title\":[a[\"title\"] for a in myList],\n",
    "                         \"pubmedId\":[a[\"pubmedId\"] for a in myList],\n",
    "                         \"publication_date\":[a[\"publication_date\"] for a in myList],\n",
    "                        #\"journal\":[a[\"journal\"] for a in myList],\n",
    "                          \"queryIds\":[a[\"queryIds\"] for a in myList],\n",
    "                          \"doi\":[a[\"doi\"] for a in myList]})\n"
   ]
  },
  {
   "cell_type": "code",
   "execution_count": 40,
   "metadata": {},
   "outputs": [
    {
     "data": {
      "text/plain": [
       "Index(['title', 'pubmedId', 'publication_date', 'queryIds', 'doi'], dtype='object')"
      ]
     },
     "execution_count": 40,
     "metadata": {},
     "output_type": "execute_result"
    }
   ],
   "source": [
    "dfUniqueArticles.columns"
   ]
  },
  {
   "cell_type": "code",
   "execution_count": 41,
   "metadata": {},
   "outputs": [
    {
     "data": {
      "text/html": [
       "<div>\n",
       "<style scoped>\n",
       "    .dataframe tbody tr th:only-of-type {\n",
       "        vertical-align: middle;\n",
       "    }\n",
       "\n",
       "    .dataframe tbody tr th {\n",
       "        vertical-align: top;\n",
       "    }\n",
       "\n",
       "    .dataframe thead th {\n",
       "        text-align: right;\n",
       "    }\n",
       "</style>\n",
       "<table border=\"1\" class=\"dataframe\">\n",
       "  <thead>\n",
       "    <tr style=\"text-align: right;\">\n",
       "      <th></th>\n",
       "      <th>title</th>\n",
       "      <th>pubmedId</th>\n",
       "      <th>publication_date</th>\n",
       "      <th>queryIds</th>\n",
       "      <th>doi</th>\n",
       "    </tr>\n",
       "  </thead>\n",
       "  <tbody>\n",
       "    <tr>\n",
       "      <th>0</th>\n",
       "      <td>[Guidelines for clinical trial protocols for i...</td>\n",
       "      <td>38361499</td>\n",
       "      <td>2024-02-16</td>\n",
       "      <td>[0]</td>\n",
       "      <td>10.26633/RPSP.2023.149</td>\n",
       "    </tr>\n",
       "    <tr>\n",
       "      <th>1</th>\n",
       "      <td>[Not Available].</td>\n",
       "      <td>38319676</td>\n",
       "      <td>2024-02-06</td>\n",
       "      <td>[0]</td>\n",
       "      <td>10.1002/mp.16965</td>\n",
       "    </tr>\n",
       "    <tr>\n",
       "      <th>2</th>\n",
       "      <td>Artificial Intelligence-Assisted Colonoscopy i...</td>\n",
       "      <td>38146871</td>\n",
       "      <td>2023-12-26</td>\n",
       "      <td>[0]</td>\n",
       "      <td>10.14309/ctg.0000000000000671</td>\n",
       "    </tr>\n",
       "    <tr>\n",
       "      <th>3</th>\n",
       "      <td>Covid-19 triage in the emergency department 2....</td>\n",
       "      <td>37428304</td>\n",
       "      <td>2023-07-10</td>\n",
       "      <td>[0]</td>\n",
       "      <td>10.1007/s10729-023-09647-2\\n10.3390/a13100249\\...</td>\n",
       "    </tr>\n",
       "    <tr>\n",
       "      <th>4</th>\n",
       "      <td>Effect of Human-AI Interaction on Detection of...</td>\n",
       "      <td>37367443</td>\n",
       "      <td>2023-06-27</td>\n",
       "      <td>[0]</td>\n",
       "      <td>10.1148/radiol.222976</td>\n",
       "    </tr>\n",
       "    <tr>\n",
       "      <th>...</th>\n",
       "      <td>...</td>\n",
       "      <td>...</td>\n",
       "      <td>...</td>\n",
       "      <td>...</td>\n",
       "      <td>...</td>\n",
       "    </tr>\n",
       "    <tr>\n",
       "      <th>175</th>\n",
       "      <td>TNF-α inhibitor reduces drug-resistance to ant...</td>\n",
       "      <td>32310956</td>\n",
       "      <td>2020-04-21</td>\n",
       "      <td>[5]</td>\n",
       "      <td>10.1371/journal.pone.0231499\\n10.1634/theoncol...</td>\n",
       "    </tr>\n",
       "    <tr>\n",
       "      <th>176</th>\n",
       "      <td>Treatment options in BRAF-mutant metastatic co...</td>\n",
       "      <td>32304411</td>\n",
       "      <td>2020-04-19</td>\n",
       "      <td>[5]</td>\n",
       "      <td>10.1097/CAD.0000000000000940</td>\n",
       "    </tr>\n",
       "    <tr>\n",
       "      <th>177</th>\n",
       "      <td>Heterotrimeric G</td>\n",
       "      <td>32122969</td>\n",
       "      <td>2020-03-04</td>\n",
       "      <td>[5]</td>\n",
       "      <td>10.1074/jbc.REV119.007061\\n10.1146/annurev.bi....</td>\n",
       "    </tr>\n",
       "    <tr>\n",
       "      <th>178</th>\n",
       "      <td>Anticancer effects of alloxanthoxyletin and fa...</td>\n",
       "      <td>30544062</td>\n",
       "      <td>2018-12-14</td>\n",
       "      <td>[5]</td>\n",
       "      <td>10.1016/j.biopha.2018.12.005</td>\n",
       "    </tr>\n",
       "    <tr>\n",
       "      <th>179</th>\n",
       "      <td>Molecular Mechanism of Inhibition of Acid Cera...</td>\n",
       "      <td>30525581</td>\n",
       "      <td>2018-12-12</td>\n",
       "      <td>[5]</td>\n",
       "      <td>10.1021/acs.jmedchem.8b01723\\n10.1002/jcb.26570</td>\n",
       "    </tr>\n",
       "  </tbody>\n",
       "</table>\n",
       "<p>180 rows × 5 columns</p>\n",
       "</div>"
      ],
      "text/plain": [
       "                                                 title  pubmedId  \\\n",
       "0    [Guidelines for clinical trial protocols for i...  38361499   \n",
       "1                                     [Not Available].  38319676   \n",
       "2    Artificial Intelligence-Assisted Colonoscopy i...  38146871   \n",
       "3    Covid-19 triage in the emergency department 2....  37428304   \n",
       "4    Effect of Human-AI Interaction on Detection of...  37367443   \n",
       "..                                                 ...       ...   \n",
       "175  TNF-α inhibitor reduces drug-resistance to ant...  32310956   \n",
       "176  Treatment options in BRAF-mutant metastatic co...  32304411   \n",
       "177                                   Heterotrimeric G  32122969   \n",
       "178  Anticancer effects of alloxanthoxyletin and fa...  30544062   \n",
       "179  Molecular Mechanism of Inhibition of Acid Cera...  30525581   \n",
       "\n",
       "    publication_date queryIds  \\\n",
       "0         2024-02-16      [0]   \n",
       "1         2024-02-06      [0]   \n",
       "2         2023-12-26      [0]   \n",
       "3         2023-07-10      [0]   \n",
       "4         2023-06-27      [0]   \n",
       "..               ...      ...   \n",
       "175       2020-04-21      [5]   \n",
       "176       2020-04-19      [5]   \n",
       "177       2020-03-04      [5]   \n",
       "178       2018-12-14      [5]   \n",
       "179       2018-12-12      [5]   \n",
       "\n",
       "                                                   doi  \n",
       "0                               10.26633/RPSP.2023.149  \n",
       "1                                     10.1002/mp.16965  \n",
       "2                        10.14309/ctg.0000000000000671  \n",
       "3    10.1007/s10729-023-09647-2\\n10.3390/a13100249\\...  \n",
       "4                                10.1148/radiol.222976  \n",
       "..                                                 ...  \n",
       "175  10.1371/journal.pone.0231499\\n10.1634/theoncol...  \n",
       "176                       10.1097/CAD.0000000000000940  \n",
       "177  10.1074/jbc.REV119.007061\\n10.1146/annurev.bi....  \n",
       "178                       10.1016/j.biopha.2018.12.005  \n",
       "179    10.1021/acs.jmedchem.8b01723\\n10.1002/jcb.26570  \n",
       "\n",
       "[180 rows x 5 columns]"
      ]
     },
     "execution_count": 41,
     "metadata": {},
     "output_type": "execute_result"
    }
   ],
   "source": [
    "dfUniqueArticles"
   ]
  },
  {
   "cell_type": "markdown",
   "metadata": {},
   "source": [
    "Save the results to the `results` directory"
   ]
  },
  {
   "cell_type": "code",
   "execution_count": 45,
   "metadata": {},
   "outputs": [
    {
     "name": "stdout",
     "output_type": "stream",
     "text": [
      "saving results/dfUniqueArticles.csv\n"
     ]
    }
   ],
   "source": [
    "fn = \"results/dfUniqueArticles.csv\"\n",
    "print(\"saving\",fn)\n",
    "dfUniqueArticles.to_csv(fn)"
   ]
  },
  {
   "cell_type": "code",
   "execution_count": null,
   "metadata": {},
   "outputs": [],
   "source": []
  },
  {
   "cell_type": "code",
   "execution_count": null,
   "metadata": {},
   "outputs": [],
   "source": []
  }
 ],
 "metadata": {
  "kernelspec": {
   "display_name": ".venv",
   "language": "python",
   "name": "python3"
  },
  "language_info": {
   "codemirror_mode": {
    "name": "ipython",
    "version": 3
   },
   "file_extension": ".py",
   "mimetype": "text/x-python",
   "name": "python",
   "nbconvert_exporter": "python",
   "pygments_lexer": "ipython3",
   "version": "3.10.12"
  }
 },
 "nbformat": 4,
 "nbformat_minor": 2
}
